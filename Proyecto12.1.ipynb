{
 "cells": [
  {
   "cell_type": "markdown",
   "metadata": {},
   "source": [
    "# Descripción del Proyecto"
   ]
  },
  {
   "cell_type": "markdown",
   "metadata": {},
   "source": [
    "El servicio de venta de autos usados Rusty Bargain está desarrollando una aplicación para atraer nuevos clientes. Gracias a esa app, puedes averiguar rápidamente el valor de mercado de tu coche. Tienes acceso al historial: especificaciones técnicas, versiones de equipamiento y precios. Tienes que crear un modelo que determine el valor de mercado.\n",
    "A Rusty Bargain le interesa:\n",
    "- la calidad de la predicción;\n",
    "- la velocidad de la predicción;\n",
    "- el tiempo requerido para el entrenamiento"
   ]
  },
  {
   "cell_type": "markdown",
   "metadata": {},
   "source": [
    "## Preparación de datos"
   ]
  },
  {
   "cell_type": "code",
   "execution_count": 1,
   "metadata": {},
   "outputs": [],
   "source": [
    "import numpy as np\n",
    "import pandas as pd\n",
    "import matplotlib.pyplot as plt\n",
    "import math\n",
    "import lightgbm as lgb\n",
    "import plotly.graph_objs as go\n",
    "import plotly.subplots as sp\n",
    "from sklearn.preprocessing import OrdinalEncoder, OneHotEncoder, LabelEncoder\n",
    "from catboost import CatBoostRegressor\n",
    "from sklearn.model_selection import train_test_split\n",
    "from sklearn.neighbors import NearestNeighbors\n",
    "from sklearn.linear_model import LinearRegression\n",
    "from sklearn.ensemble import RandomForestRegressor\n",
    "from sklearn.metrics import mean_squared_error\n",
    "from scipy.spatial import distance\n",
    "from numpy.random import RandomState\n",
    "import plotly.graph_objs as go\n",
    "import plotly.express as px\n",
    "import time"
   ]
  },
  {
   "cell_type": "code",
   "execution_count": 2,
   "metadata": {},
   "outputs": [],
   "source": [
    "rs = RandomState(seed=1984)"
   ]
  },
  {
   "cell_type": "code",
   "execution_count": 3,
   "metadata": {},
   "outputs": [],
   "source": [
    "df = pd.read_csv(\"/datasets/car_data.csv\")"
   ]
  },
  {
   "cell_type": "code",
   "execution_count": 4,
   "metadata": {},
   "outputs": [
    {
     "name": "stdout",
     "output_type": "stream",
     "text": [
      "<class 'pandas.core.frame.DataFrame'>\n",
      "RangeIndex: 354369 entries, 0 to 354368\n",
      "Data columns (total 16 columns):\n",
      " #   Column             Non-Null Count   Dtype \n",
      "---  ------             --------------   ----- \n",
      " 0   DateCrawled        354369 non-null  object\n",
      " 1   Price              354369 non-null  int64 \n",
      " 2   VehicleType        316879 non-null  object\n",
      " 3   RegistrationYear   354369 non-null  int64 \n",
      " 4   Gearbox            334536 non-null  object\n",
      " 5   Power              354369 non-null  int64 \n",
      " 6   Model              334664 non-null  object\n",
      " 7   Mileage            354369 non-null  int64 \n",
      " 8   RegistrationMonth  354369 non-null  int64 \n",
      " 9   FuelType           321474 non-null  object\n",
      " 10  Brand              354369 non-null  object\n",
      " 11  NotRepaired        283215 non-null  object\n",
      " 12  DateCreated        354369 non-null  object\n",
      " 13  NumberOfPictures   354369 non-null  int64 \n",
      " 14  PostalCode         354369 non-null  int64 \n",
      " 15  LastSeen           354369 non-null  object\n",
      "dtypes: int64(7), object(9)\n",
      "memory usage: 43.3+ MB\n"
     ]
    }
   ],
   "source": [
    "df.info()"
   ]
  },
  {
   "cell_type": "markdown",
   "metadata": {},
   "source": [
    "Se puede observar que el dataframe contiene un total de 354,369 registros y 16 columnas donde se pueden identificar datos faltantes en las columnas VehicleType, Gearbox, Model, FuelType, NotRepaired y NumberOfPictures.\n",
    "\n",
    "Para mejorar la coherencia, la legibilidad y la practicidad en el trabajo voy a cambiar los nombres de las columnas a minúsculas y a reescribir los títulos a continuación."
   ]
  },
  {
   "cell_type": "code",
   "execution_count": 5,
   "metadata": {},
   "outputs": [],
   "source": [
    "df = df.rename(columns={'DateCrawled': 'date_crawled', 'Price': 'price', 'VehicleType': 'vehicle_type', 'RegistrationYear': 'registration_year', 'Gearbox': 'gearbox', 'Power': 'power', 'Model': 'model', 'Mileage': 'mileage', 'RegistrationMonth': 'registration_month', 'FuelType': 'fuel_type', 'Brand': 'brand', 'NotRepaired': 'not_repaired', 'DateCreated': 'date_created', 'NumberOfPictures': 'number_of_pictures', 'PostalCode': 'postal_code', 'LastSeen': 'last_seen'})"
   ]
  },
  {
   "cell_type": "markdown",
   "metadata": {},
   "source": [
    "# Columnas numéricas del dataset"
   ]
  },
  {
   "cell_type": "code",
   "execution_count": 6,
   "metadata": {},
   "outputs": [
    {
     "data": {
      "text/html": [
       "<div>\n",
       "<style scoped>\n",
       "    .dataframe tbody tr th:only-of-type {\n",
       "        vertical-align: middle;\n",
       "    }\n",
       "\n",
       "    .dataframe tbody tr th {\n",
       "        vertical-align: top;\n",
       "    }\n",
       "\n",
       "    .dataframe thead th {\n",
       "        text-align: right;\n",
       "    }\n",
       "</style>\n",
       "<table border=\"1\" class=\"dataframe\">\n",
       "  <thead>\n",
       "    <tr style=\"text-align: right;\">\n",
       "      <th></th>\n",
       "      <th>price</th>\n",
       "      <th>registration_year</th>\n",
       "      <th>power</th>\n",
       "      <th>mileage</th>\n",
       "      <th>registration_month</th>\n",
       "      <th>number_of_pictures</th>\n",
       "      <th>postal_code</th>\n",
       "    </tr>\n",
       "  </thead>\n",
       "  <tbody>\n",
       "    <tr>\n",
       "      <th>count</th>\n",
       "      <td>354369.000000</td>\n",
       "      <td>354369.000000</td>\n",
       "      <td>354369.000000</td>\n",
       "      <td>354369.000000</td>\n",
       "      <td>354369.000000</td>\n",
       "      <td>354369.0</td>\n",
       "      <td>354369.000000</td>\n",
       "    </tr>\n",
       "    <tr>\n",
       "      <th>mean</th>\n",
       "      <td>4416.656776</td>\n",
       "      <td>2004.234448</td>\n",
       "      <td>110.094337</td>\n",
       "      <td>128211.172535</td>\n",
       "      <td>5.714645</td>\n",
       "      <td>0.0</td>\n",
       "      <td>50508.689087</td>\n",
       "    </tr>\n",
       "    <tr>\n",
       "      <th>std</th>\n",
       "      <td>4514.158514</td>\n",
       "      <td>90.227958</td>\n",
       "      <td>189.850405</td>\n",
       "      <td>37905.341530</td>\n",
       "      <td>3.726421</td>\n",
       "      <td>0.0</td>\n",
       "      <td>25783.096248</td>\n",
       "    </tr>\n",
       "    <tr>\n",
       "      <th>min</th>\n",
       "      <td>0.000000</td>\n",
       "      <td>1000.000000</td>\n",
       "      <td>0.000000</td>\n",
       "      <td>5000.000000</td>\n",
       "      <td>0.000000</td>\n",
       "      <td>0.0</td>\n",
       "      <td>1067.000000</td>\n",
       "    </tr>\n",
       "    <tr>\n",
       "      <th>25%</th>\n",
       "      <td>1050.000000</td>\n",
       "      <td>1999.000000</td>\n",
       "      <td>69.000000</td>\n",
       "      <td>125000.000000</td>\n",
       "      <td>3.000000</td>\n",
       "      <td>0.0</td>\n",
       "      <td>30165.000000</td>\n",
       "    </tr>\n",
       "    <tr>\n",
       "      <th>50%</th>\n",
       "      <td>2700.000000</td>\n",
       "      <td>2003.000000</td>\n",
       "      <td>105.000000</td>\n",
       "      <td>150000.000000</td>\n",
       "      <td>6.000000</td>\n",
       "      <td>0.0</td>\n",
       "      <td>49413.000000</td>\n",
       "    </tr>\n",
       "    <tr>\n",
       "      <th>75%</th>\n",
       "      <td>6400.000000</td>\n",
       "      <td>2008.000000</td>\n",
       "      <td>143.000000</td>\n",
       "      <td>150000.000000</td>\n",
       "      <td>9.000000</td>\n",
       "      <td>0.0</td>\n",
       "      <td>71083.000000</td>\n",
       "    </tr>\n",
       "    <tr>\n",
       "      <th>max</th>\n",
       "      <td>20000.000000</td>\n",
       "      <td>9999.000000</td>\n",
       "      <td>20000.000000</td>\n",
       "      <td>150000.000000</td>\n",
       "      <td>12.000000</td>\n",
       "      <td>0.0</td>\n",
       "      <td>99998.000000</td>\n",
       "    </tr>\n",
       "  </tbody>\n",
       "</table>\n",
       "</div>"
      ],
      "text/plain": [
       "               price  registration_year          power        mileage  \\\n",
       "count  354369.000000      354369.000000  354369.000000  354369.000000   \n",
       "mean     4416.656776        2004.234448     110.094337  128211.172535   \n",
       "std      4514.158514          90.227958     189.850405   37905.341530   \n",
       "min         0.000000        1000.000000       0.000000    5000.000000   \n",
       "25%      1050.000000        1999.000000      69.000000  125000.000000   \n",
       "50%      2700.000000        2003.000000     105.000000  150000.000000   \n",
       "75%      6400.000000        2008.000000     143.000000  150000.000000   \n",
       "max     20000.000000        9999.000000   20000.000000  150000.000000   \n",
       "\n",
       "       registration_month  number_of_pictures    postal_code  \n",
       "count       354369.000000            354369.0  354369.000000  \n",
       "mean             5.714645                 0.0   50508.689087  \n",
       "std              3.726421                 0.0   25783.096248  \n",
       "min              0.000000                 0.0    1067.000000  \n",
       "25%              3.000000                 0.0   30165.000000  \n",
       "50%              6.000000                 0.0   49413.000000  \n",
       "75%              9.000000                 0.0   71083.000000  \n",
       "max             12.000000                 0.0   99998.000000  "
      ]
     },
     "execution_count": 6,
     "metadata": {},
     "output_type": "execute_result"
    }
   ],
   "source": [
    "df.describe()"
   ]
  },
  {
   "cell_type": "markdown",
   "metadata": {},
   "source": [
    "# Valores no válidos en columnas numéricas"
   ]
  },
  {
   "cell_type": "markdown",
   "metadata": {},
   "source": [
    "A la hora de analizar las columnas con valores numéricos pude identificar algunos valores que no son coherentes y se pueden considerar como datos erroneos como por ejemplo en año de registro hay valores atípicos como 1000 o 9999 que no corresponden a años válidos para el registro de autos, luego en mes de registro se observan filas con un valor de cero lo cual no es válido ya que el mes debe estar en el rango de 1 y 12, y así hay errores con otros datos por lo tanto abordaré este problema en los siguientes apartados para limpiar correctamente los datos y poder hacer un buen trabajo."
   ]
  },
  {
   "cell_type": "markdown",
   "metadata": {},
   "source": [
    "# Columnas numéricas eliminadas"
   ]
  },
  {
   "cell_type": "markdown",
   "metadata": {},
   "source": [
    "Existen varias columnas numéricas que eliminaré en la sección de cambios debido a que considero no aportaban nada a nuestro objetivo y al contrario podrían perjudicar en algunos aspectos, por lo tanto estas columnas que eliminaré son: number_of_pictures, postal_code, date_crawled, date_created y last_seen."
   ]
  },
  {
   "cell_type": "markdown",
   "metadata": {},
   "source": [
    "# Columna registration_year"
   ]
  },
  {
   "cell_type": "code",
   "execution_count": null,
   "metadata": {},
   "outputs": [],
   "source": [
    "df_filtered = df[(df['registration_year'] >= 1900) & (df['registration_year'] <= 2023)]\n",
    "\n",
    "histogram = go.Histogram(x=df_filtered['registration_year'], nbinsx=50, name='Histograma')\n",
    "boxplot = go.Box(x=df_filtered['registration_year'], name='Boxplot')\n",
    "\n",
    "fig = sp.make_subplots(rows=1, cols=2, subplot_titles=(\"Histograma\", \"Boxplot\"))\n",
    "fig.add_trace(histogram, row=1, col=1)\n",
    "fig.add_trace(boxplot, row=1, col=2)\n",
    "\n",
    "fig.update_layout(title='Análisis de la columna registration_year', showlegend=False)\n",
    "fig.show()"
   ]
  },
  {
   "cell_type": "markdown",
   "metadata": {},
   "source": [
    "Despues de hacer el análisis he tomado la decisión de eliminar los datos anteriores a 1989 y posteriores a 2019 en la siguiente sección del proyecto ya que considero presentan valores atípicos o incorrectos para el año de registro de un vehículo que pueden afectar la coherencia de los reslutados."
   ]
  },
  {
   "cell_type": "markdown",
   "metadata": {},
   "source": [
    "# Columna power"
   ]
  },
  {
   "cell_type": "code",
   "execution_count": null,
   "metadata": {},
   "outputs": [],
   "source": [
    "hist = go.Histogram(x=df['power'], name='Potencia')\n",
    "\n",
    "box = go.Box(y=df['power'], name='Potencia')\n",
    "\n",
    "fig = sp.make_subplots(rows=1, cols=2, subplot_titles=('Histograma', 'Boxplot'))\n",
    "fig.add_trace(hist, row=1, col=1)\n",
    "fig.add_trace(box, row=1, col=2)\n",
    "\n",
    "fig.update_layout(width=900, height=400, title='Análisis de la columna power')\n",
    "\n",
    "fig.show()"
   ]
  },
  {
   "cell_type": "markdown",
   "metadata": {},
   "source": [
    "Después de observar los datos en este apartado, con el objetivo de mantener la coherencia y evitar valores extremos que puedan afectar el análisis y la precisión del modelo he decidido eliminar los datos de las filas cuyo valor en la columna power supere los 2,000 caballos de vapor todo esto en base a lo que considero datos realistas ya que cifras mas elevadas las considero poco probables y fiables."
   ]
  },
  {
   "cell_type": "markdown",
   "metadata": {},
   "source": [
    "# Columna mileage"
   ]
  },
  {
   "cell_type": "code",
   "execution_count": null,
   "metadata": {},
   "outputs": [],
   "source": [
    "hist = go.Histogram(x=df['mileage'], name='Kilometraje')\n",
    "\n",
    "box = go.Box(y=df['mileage'], name='Kilometraje')\n",
    "\n",
    "fig = sp.make_subplots(rows=1, cols=2, subplot_titles=('Histograma', 'Boxplot'))\n",
    "fig.add_trace(hist, row=1, col=1)\n",
    "fig.add_trace(box, row=1, col=2)\n",
    "\n",
    "fig.update_layout(width=900, height=400, title='Análisis de la columna mileage')\n",
    "\n",
    "fig.show()"
   ]
  },
  {
   "cell_type": "markdown",
   "metadata": {},
   "source": [
    "En este apartado dejaré los datos como estan ya que según mi punto de vista no hay algun problema con ellos."
   ]
  },
  {
   "cell_type": "markdown",
   "metadata": {},
   "source": [
    "# Columna registration_month"
   ]
  },
  {
   "cell_type": "code",
   "execution_count": null,
   "metadata": {},
   "outputs": [],
   "source": [
    "df[\"is_zero\"] = (df[\"registration_month\"] == 0)\n",
    "\n",
    "fig = px.histogram(df, x=\"registration_month\", nbins=24, color=\"is_zero\")\n",
    "\n",
    "fig.show()"
   ]
  },
  {
   "cell_type": "markdown",
   "metadata": {},
   "source": [
    "Para mantener la coherencia y consistencia de los datos he decidido eliminar las filas que contengan el valor cero en la columna registration_month en el siguiente apartado ya que estas filas no aportan información válida y podrían afectar el análisis y los resultados del modelo."
   ]
  },
  {
   "cell_type": "markdown",
   "metadata": {},
   "source": [
    "# Cambios en columnas numéricas"
   ]
  },
  {
   "cell_type": "code",
   "execution_count": 11,
   "metadata": {},
   "outputs": [],
   "source": [
    "df_copia = df.copy()"
   ]
  },
  {
   "cell_type": "code",
   "execution_count": 12,
   "metadata": {},
   "outputs": [
    {
     "name": "stdout",
     "output_type": "stream",
     "text": [
      "<class 'pandas.core.frame.DataFrame'>\n",
      "Int64Index: 311147 entries, 1 to 354368\n",
      "Data columns (total 12 columns):\n",
      " #   Column              Non-Null Count   Dtype \n",
      "---  ------              --------------   ----- \n",
      " 0   price               311147 non-null  int64 \n",
      " 1   vehicle_type        288880 non-null  object\n",
      " 2   registration_year   311147 non-null  int64 \n",
      " 3   gearbox             301659 non-null  object\n",
      " 4   power               311147 non-null  int64 \n",
      " 5   model               298977 non-null  object\n",
      " 6   mileage             311147 non-null  int64 \n",
      " 7   registration_month  311147 non-null  int64 \n",
      " 8   fuel_type           292510 non-null  object\n",
      " 9   brand               311147 non-null  object\n",
      " 10  not_repaired        263414 non-null  object\n",
      " 11  is_zero             311147 non-null  bool  \n",
      "dtypes: bool(1), int64(5), object(6)\n",
      "memory usage: 28.8+ MB\n"
     ]
    }
   ],
   "source": [
    "df = df.drop(['number_of_pictures', 'postal_code', 'date_crawled', 'date_created', 'last_seen'], axis=1)\n",
    "\n",
    "df = df.loc[(df['registration_year'] >= 1988) & (df['registration_year'] <= 2020)]\n",
    "\n",
    "df = df.loc[df['power'] < 2000]\n",
    "   \n",
    "df = df.loc[df['registration_month'] != 0]\n",
    "\n",
    "df.info()"
   ]
  },
  {
   "cell_type": "markdown",
   "metadata": {},
   "source": [
    "# Columnas categóricas del dataset"
   ]
  },
  {
   "cell_type": "markdown",
   "metadata": {},
   "source": [
    "En esta sección revisaré las columnas categóricas del dataset del proyecto en donde realizaré un análisis de cada una de estas para identificar patrones, valores únicos y posibles acciones a tomar en cada caso."
   ]
  },
  {
   "cell_type": "markdown",
   "metadata": {},
   "source": [
    "# Columna vehicle_type"
   ]
  },
  {
   "cell_type": "code",
   "execution_count": 13,
   "metadata": {},
   "outputs": [
    {
     "name": "stdout",
     "output_type": "stream",
     "text": [
      "sedan          83616\n",
      "small          72416\n",
      "wagon          60177\n",
      "bus            27025\n",
      "convertible    18235\n",
      "coupe          13789\n",
      "suv            11092\n",
      "other           2530\n",
      "Name: vehicle_type, dtype: int64\n",
      "22267\n"
     ]
    }
   ],
   "source": [
    "print(df['vehicle_type'].value_counts())\n",
    "print(df['vehicle_type'].isna().sum())"
   ]
  },
  {
   "cell_type": "markdown",
   "metadata": {},
   "source": [
    "Después de  analisar esta columna he tomado la decisión de asignar los datos faltantes a la categoría other en la siguiente sección, esto porque me parece la mejor opción para manejar los valores ausentes en esta columna. "
   ]
  },
  {
   "cell_type": "markdown",
   "metadata": {},
   "source": [
    "# Columna gearbox"
   ]
  },
  {
   "cell_type": "code",
   "execution_count": 14,
   "metadata": {},
   "outputs": [
    {
     "name": "stdout",
     "output_type": "stream",
     "text": [
      "manual    240794\n",
      "auto       60865\n",
      "Name: gearbox, dtype: int64\n",
      "9488\n"
     ]
    }
   ],
   "source": [
    "print(df['gearbox'].value_counts())\n",
    "print(df['gearbox'].isna().sum())"
   ]
  },
  {
   "cell_type": "markdown",
   "metadata": {},
   "source": [
    "Debido a que la categoría manual es la más frecuente en el dataset en comparación con la categoría automático he decidido imputar los valores faltantes en la categoría manual en la siguiente sección de cambios."
   ]
  },
  {
   "cell_type": "markdown",
   "metadata": {},
   "source": [
    "# Columna model"
   ]
  },
  {
   "cell_type": "code",
   "execution_count": 27,
   "metadata": {},
   "outputs": [
    {
     "name": "stdout",
     "output_type": "stream",
     "text": [
      "golf                  25444\n",
      "other                 19753\n",
      "3er                   17811\n",
      "polo                  11386\n",
      "corsa                 11004\n",
      "                      ...  \n",
      "i3                        7\n",
      "samara                    6\n",
      "rangerover                3\n",
      "range_rover_evoque        2\n",
      "serie_2                   1\n",
      "Name: model, Length: 248, dtype: int64\n",
      "12170\n",
      "248\n"
     ]
    }
   ],
   "source": [
    "print(df['model'].value_counts())\n",
    "print(df['model'].isna().sum())\n",
    "print(df['model'].nunique())"
   ]
  },
  {
   "cell_type": "markdown",
   "metadata": {},
   "source": [
    "Después de analizar la columna model y encontrar que hay 248 valores únicos en esta columna he decidido eliminarla del conjunto de datos con el propósito de evitar problemas de sobreajuste y mejorar la capacidad del modelo para generalizar a nuevos datos."
   ]
  },
  {
   "cell_type": "markdown",
   "metadata": {},
   "source": [
    "# Columna fuel_type"
   ]
  },
  {
   "cell_type": "code",
   "execution_count": 28,
   "metadata": {},
   "outputs": [
    {
     "name": "stdout",
     "output_type": "stream",
     "text": [
      "petrol      193422\n",
      "gasoline     93287\n",
      "lpg           4841\n",
      "cng            530\n",
      "hybrid         225\n",
      "other          124\n",
      "electric        81\n",
      "Name: fuel_type, dtype: int64\n",
      "18637\n",
      "7\n"
     ]
    }
   ],
   "source": [
    "print(df['fuel_type'].value_counts())\n",
    "print(df['fuel_type'].isna().sum())\n",
    "print(df['fuel_type'].nunique())"
   ]
  },
  {
   "cell_type": "markdown",
   "metadata": {},
   "source": [
    "Después de analizar la columna fuel_type y encontrar datos faltantes además de que hay 7 valores posibles en total para indicar el tipo de combustible utilizado por los autos, he decidido imputar los valores faltantes en la categoría other para conservar la información disponible en los registros y evitar la eliminación de datos importantes."
   ]
  },
  {
   "cell_type": "markdown",
   "metadata": {},
   "source": [
    "# Columna brand"
   ]
  },
  {
   "cell_type": "code",
   "execution_count": 29,
   "metadata": {},
   "outputs": [
    {
     "name": "stdout",
     "output_type": "stream",
     "text": [
      "volkswagen        66594\n",
      "opel              34309\n",
      "bmw               33259\n",
      "mercedes_benz     28570\n",
      "audi              26520\n",
      "ford              21918\n",
      "renault           15671\n",
      "peugeot            9959\n",
      "fiat               8187\n",
      "seat               6282\n",
      "skoda              5234\n",
      "mazda              4998\n",
      "smart              4858\n",
      "citroen            4570\n",
      "nissan             4418\n",
      "toyota             4298\n",
      "hyundai            3353\n",
      "mini               3095\n",
      "volvo              2849\n",
      "mitsubishi         2659\n",
      "honda              2465\n",
      "kia                2312\n",
      "suzuki             2063\n",
      "alfa_romeo         1976\n",
      "sonstige_autos     1727\n",
      "chevrolet          1443\n",
      "chrysler           1256\n",
      "dacia               858\n",
      "daihatsu            688\n",
      "subaru              645\n",
      "jeep                575\n",
      "porsche             537\n",
      "daewoo              490\n",
      "saab                479\n",
      "land_rover          466\n",
      "jaguar              451\n",
      "rover               403\n",
      "lancia              392\n",
      "lada                161\n",
      "trabant             159\n",
      "Name: brand, dtype: int64\n",
      "0\n",
      "40\n"
     ]
    }
   ],
   "source": [
    "print(df['brand'].value_counts())\n",
    "print(df['brand'].isna().sum())\n",
    "print(df['brand'].nunique())"
   ]
  },
  {
   "cell_type": "markdown",
   "metadata": {},
   "source": [
    "Después de analizar la columna brand y encontrar 40 valores únicos, he decidido al igual que con la columna model eliminarla ya que considero que es la mejor opción en este caso y así poder evitar también problemas de sobreajuste."
   ]
  },
  {
   "cell_type": "markdown",
   "metadata": {},
   "source": [
    "# Columna not_repaired"
   ]
  },
  {
   "cell_type": "code",
   "execution_count": 30,
   "metadata": {},
   "outputs": [
    {
     "name": "stdout",
     "output_type": "stream",
     "text": [
      "no     233207\n",
      "yes     30207\n",
      "Name: not_repaired, dtype: int64\n",
      "47733\n",
      "2\n"
     ]
    }
   ],
   "source": [
    "print(df['not_repaired'].value_counts())\n",
    "print(df['not_repaired'].isna().sum())\n",
    "print(df['not_repaired'].nunique())"
   ]
  },
  {
   "cell_type": "markdown",
   "metadata": {},
   "source": [
    "En esta columna encontré 47,733 valores ausentes y debido a que solo hay posiblidad de dos respuestas en este apartado (sí y no), he decidido asignar el valor de no a los registros faltantes ya que considero que los registros sin información disponible probablemente signifiquen que no han sido reparados todavía."
   ]
  },
  {
   "cell_type": "markdown",
   "metadata": {},
   "source": [
    "# Cambio en columnas categóricas"
   ]
  },
  {
   "cell_type": "code",
   "execution_count": 31,
   "metadata": {},
   "outputs": [],
   "source": [
    "df['vehicle_type'].fillna(value='other', axis=0, inplace=True)\n",
    "\n",
    "df['gearbox'].fillna(value='manual', axis=0, inplace=True)\n",
    "\n",
    "df['fuel_type'].fillna(value='other', axis=0, inplace=True)\n",
    "\n",
    "df['not_repaired'].fillna(value='no', axis=0, inplace=True)"
   ]
  },
  {
   "cell_type": "code",
   "execution_count": 32,
   "metadata": {},
   "outputs": [],
   "source": [
    "df = df.drop(['model'], axis=1)\n",
    "df = df.drop(['brand'], axis=1)\n",
    "\n",
    "df = df.drop(['is_zero'], axis=1)"
   ]
  },
  {
   "cell_type": "code",
   "execution_count": 33,
   "metadata": {},
   "outputs": [
    {
     "name": "stdout",
     "output_type": "stream",
     "text": [
      "<class 'pandas.core.frame.DataFrame'>\n",
      "Int64Index: 311147 entries, 1 to 354368\n",
      "Data columns (total 9 columns):\n",
      " #   Column              Non-Null Count   Dtype \n",
      "---  ------              --------------   ----- \n",
      " 0   price               311147 non-null  int64 \n",
      " 1   vehicle_type        311147 non-null  object\n",
      " 2   registration_year   311147 non-null  int64 \n",
      " 3   gearbox             311147 non-null  object\n",
      " 4   power               311147 non-null  int64 \n",
      " 5   mileage             311147 non-null  int64 \n",
      " 6   registration_month  311147 non-null  int64 \n",
      " 7   fuel_type           311147 non-null  object\n",
      " 8   not_repaired        311147 non-null  object\n",
      "dtypes: int64(5), object(4)\n",
      "memory usage: 23.7+ MB\n"
     ]
    }
   ],
   "source": [
    "df.info()"
   ]
  },
  {
   "cell_type": "code",
   "execution_count": 34,
   "metadata": {},
   "outputs": [],
   "source": [
    "df_clean = df.copy()"
   ]
  },
  {
   "cell_type": "markdown",
   "metadata": {},
   "source": [
    "# Datos con OrdinalEncoder"
   ]
  },
  {
   "cell_type": "code",
   "execution_count": 35,
   "metadata": {},
   "outputs": [
    {
     "data": {
      "text/plain": [
       "(311147, 20)"
      ]
     },
     "execution_count": 35,
     "metadata": {},
     "output_type": "execute_result"
    }
   ],
   "source": [
    "enc = OrdinalEncoder()\n",
    "df_enc = df_clean.copy()\n",
    "df_enc[['vehicle_type', 'gearbox', 'fuel_type', 'not_repaired']] = enc.fit_transform(df_clean[['vehicle_type', 'gearbox', 'fuel_type', 'not_repaired']])\n",
    "\n",
    "df_ohe = pd.get_dummies(df_clean, columns=['vehicle_type', 'gearbox', 'fuel_type', 'not_repaired'], drop_first=True)\n",
    "\n",
    "df_ohe.shape"
   ]
  },
  {
   "cell_type": "markdown",
   "metadata": {},
   "source": [
    "Creación de features y target"
   ]
  },
  {
   "cell_type": "code",
   "execution_count": 36,
   "metadata": {},
   "outputs": [
    {
     "name": "stdout",
     "output_type": "stream",
     "text": [
      "(186687, 8)\n",
      "(186687,)\n",
      "(62230, 8)\n",
      "(62230,)\n",
      "(62230, 8)\n",
      "(62230,)\n"
     ]
    }
   ],
   "source": [
    "rest_enc, valid = train_test_split(df_enc, test_size=0.2, random_state=rs)\n",
    "\n",
    "train, test = train_test_split(rest_enc, test_size=0.25, random_state=rs)\n",
    "\n",
    "features_train_enc = train.drop(['price'], axis=1)\n",
    "target_train_enc = train['price']\n",
    "\n",
    "features_test_enc = test.drop(['price'], axis=1)\n",
    "target_test_enc = test['price']\n",
    "\n",
    "features_valid_enc = valid.drop(['price'], axis=1)\n",
    "target_valid_enc = valid['price'] \n",
    "\n",
    "features_rest_enc = rest_enc.drop(['price'], axis=1)\n",
    "target_rest_enc = rest_enc['price']\n",
    "\n",
    "print(features_train_enc.shape)\n",
    "print(target_train_enc.shape)\n",
    "print(features_test_enc.shape)\n",
    "print(target_test_enc.shape)\n",
    "print(features_valid_enc.shape)\n",
    "print(target_valid_enc.shape)"
   ]
  },
  {
   "cell_type": "markdown",
   "metadata": {},
   "source": [
    "# Datos con OneHotEncoder"
   ]
  },
  {
   "cell_type": "code",
   "execution_count": 37,
   "metadata": {},
   "outputs": [
    {
     "name": "stdout",
     "output_type": "stream",
     "text": [
      "(186687, 19)\n",
      "(186687,)\n",
      "(62230, 19)\n",
      "(62230,)\n",
      "(62230, 19)\n",
      "(62230,)\n"
     ]
    }
   ],
   "source": [
    "rest_ohe, valid = train_test_split(df_ohe, test_size=0.2, random_state=rs)\n",
    "\n",
    "train, test = train_test_split(rest_ohe, test_size=0.25, random_state=rs)\n",
    "\n",
    "features_train_ohe = train.drop(['price'], axis=1)\n",
    "target_train_ohe = train['price']\n",
    "\n",
    "features_test_ohe = test.drop(['price'], axis=1)\n",
    "target_test_ohe = test['price']\n",
    "\n",
    "features_valid_ohe = valid.drop(['price'], axis=1)\n",
    "target_valid_ohe = valid['price']\n",
    "\n",
    "features_rest_ohe = rest_ohe.drop(['price'], axis=1)\n",
    "target_rest_ohe = rest_ohe['price']\n",
    "\n",
    "print(features_train_ohe.shape)\n",
    "print(target_train_ohe.shape)\n",
    "print(features_test_ohe.shape)\n",
    "print(target_test_ohe.shape)\n",
    "print(features_valid_ohe.shape)\n",
    "print(target_valid_ohe.shape)"
   ]
  },
  {
   "cell_type": "markdown",
   "metadata": {},
   "source": [
    "# Datos sin codificar"
   ]
  },
  {
   "cell_type": "code",
   "execution_count": 38,
   "metadata": {},
   "outputs": [
    {
     "name": "stdout",
     "output_type": "stream",
     "text": [
      "(186687, 8)\n",
      "(186687,)\n",
      "(62230, 8)\n",
      "(62230,)\n",
      "(62230, 8)\n",
      "(62230,)\n"
     ]
    }
   ],
   "source": [
    "rest, valid = train_test_split(df, test_size=0.2, random_state=rs)\n",
    "\n",
    "train, test = train_test_split(rest, test_size=0.25, random_state=rs)\n",
    "\n",
    "features_train = train.drop(['price'], axis=1)\n",
    "target_train = train['price']\n",
    "\n",
    "features_test = test.drop(['price'], axis=1)\n",
    "target_test = test['price']\n",
    "\n",
    "features_valid = valid.drop(['price'], axis=1)\n",
    "target_valid = valid['price']\n",
    "\n",
    "features_rest = rest.drop(['price'], axis=1)\n",
    "target_rest = rest['price']\n",
    "\n",
    "print(features_train.shape)\n",
    "print(target_train.shape)\n",
    "print(features_test.shape)\n",
    "print(target_test.shape)\n",
    "print(features_valid.shape)\n",
    "print(target_valid.shape)"
   ]
  },
  {
   "cell_type": "markdown",
   "metadata": {},
   "source": [
    "# Entrenamiento del modelo"
   ]
  },
  {
   "cell_type": "markdown",
   "metadata": {},
   "source": [
    "# Regresión lineal"
   ]
  },
  {
   "cell_type": "code",
   "execution_count": null,
   "metadata": {},
   "outputs": [],
   "source": [
    "reg = LinearRegression()\n",
    "\n",
    "start_time = time.time()\n",
    "reg.fit(features_train_ohe, target_train_ohe)\n",
    "train_time = time.time() - start_time\n",
    "\n",
    "start_time = time.time()\n",
    "reg_pred_ohe = reg.predict(features_valid_ohe)\n",
    "pred_time = time.time() - start_time\n",
    "\n",
    "rmse = mean_squared_error(target_valid_ohe, reg_pred_ohe, squared=False)\n",
    "\n",
    "print(f'Tiempo de entrenamiento: {train_time:.2f} segundos')\n",
    "print(f'Tiempo de predicción: {pred_time:.2f} segundos')\n",
    "print(f'RECM: {rmse:.2f}')"
   ]
  },
  {
   "cell_type": "markdown",
   "metadata": {},
   "source": [
    "# Bosque aleatorio con ajuste de parámetros"
   ]
  },
  {
   "cell_type": "code",
   "execution_count": null,
   "metadata": {},
   "outputs": [],
   "source": [
    "best_score = float('inf')\n",
    "n = 1\n",
    "\n",
    "for roots in range(3, 8):\n",
    "    for leafs in range(3, 8):\n",
    "        print(f'Ronda {n}')\n",
    "        \n",
    "        forest = RandomForestRegressor(random_state=rs, max_depth=roots, min_samples_leaf=leafs)\n",
    "        start_time = time.time()\n",
    "        forest.fit(features_train_enc, target_train_enc)\n",
    "        train_time = time.time() - start_time\n",
    "        \n",
    "        start_time = time.time()\n",
    "        f_pred = forest.predict(features_valid_enc)\n",
    "        pred_time = time.time() - start_time\n",
    "        \n",
    "        rmse = mean_squared_error(target_valid_enc, f_pred, squared=False)\n",
    "        print(f'Tiempo de entrenamiento: {train_time:.2f} segundos')\n",
    "        print(f'Tiempo de predicción: {pred_time:.2f} segundos')\n",
    "        print(f'RECM: {rmse:.2f}')\n",
    "        print()\n",
    "        \n",
    "        if rmse < best_score:\n",
    "            best_score = rmse\n",
    "            best_root = roots\n",
    "            best_leaf = leafs\n",
    "            best_pred = f_pred\n",
    "            best_n = n\n",
    "                        \n",
    "        n += 1\n",
    "\n",
    "best_forest = RandomForestRegressor(random_state=rs, max_depth=best_root, min_samples_leaf=best_leaf)\n",
    "\n",
    "print(f'Mejor ronda: {best_n}')\n",
    "print(f'Mejor RECM: {best_score:.2f}')"
   ]
  },
  {
   "cell_type": "markdown",
   "metadata": {},
   "source": [
    "# CatBoost"
   ]
  },
  {
   "cell_type": "code",
   "execution_count": null,
   "metadata": {},
   "outputs": [],
   "source": [
    "cat = CatBoostRegressor(iterations=200, cat_features=['vehicle_type', 'fuel_type', 'not_repaired', 'gearbox'])\n",
    "start_time = time.time()\n",
    "cat.fit(features_train, target_train, eval_set=(features_valid, target_valid))\n",
    "train_time = time.time() - start_time\n",
    "\n",
    "start_time = time.time()\n",
    "cat_pred = cat.predict(features_valid)\n",
    "pred_time = time.time() - start_time\n",
    "\n",
    "rmse = mean_squared_error(target_valid, cat_pred, squared=False)\n",
    "\n",
    "print(f'Tiempo de entrenamiento: {train_time:.2f} segundos')\n",
    "print(f'Tiempo de predicción: {pred_time:.2f} segundos')\n",
    "print(f'RECM: {rmse:.2f}')"
   ]
  },
  {
   "cell_type": "markdown",
   "metadata": {},
   "source": [
    "# LightGBM con ajuste de hiperparámetros"
   ]
  },
  {
   "cell_type": "code",
   "execution_count": null,
   "metadata": {},
   "outputs": [],
   "source": [
    "def convert_columns_to_category(df, columns):\n",
    "    for column in columns:\n",
    "        df[column] = df[column].astype('category')\n",
    "    return df\n",
    "\n",
    "categorical_columns = ['vehicle_type', 'fuel_type', 'not_repaired', 'gearbox']\n",
    "features_train = convert_columns_to_category(features_train, categorical_columns)\n",
    "features_valid = convert_columns_to_category(features_valid, categorical_columns)\n",
    "features_test = convert_columns_to_category(features_test, categorical_columns)\n",
    "features_rest = convert_columns_to_category(features_rest, categorical_columns)\n",
    "\n",
    "lgbm = lgb.LGBMRegressor(random_state=rs, learning_rate=0.05, n_estimators=500,\n",
    "                         max_depth=5, num_leaves=31, min_child_samples=20,\n",
    "                         subsample=0.8, colsample_bytree=0.8)\n",
    "\n",
    "start_time = time.time()\n",
    "lgbm.fit(features_train, target_train, eval_metric='RMSE',\n",
    "         categorical_feature=categorical_columns, eval_set=(features_valid, target_valid))\n",
    "train_time = time.time() - start_time\n",
    "\n",
    "start_time = time.time()\n",
    "lgbm_pred = lgbm.predict(features_valid)\n",
    "pred_time = time.time() - start_time\n",
    "\n",
    "rmse = mean_squared_error(target_valid, lgbm_pred, squared=False)\n",
    "\n",
    "print(f'Tiempo de entrenamiento: {train_time:.2f} segundos')\n",
    "print(f'Tiempo de predicción: {pred_time:.2f} segundos')\n",
    "print(f'RECM: {rmse:.2f}')"
   ]
  },
  {
   "cell_type": "markdown",
   "metadata": {},
   "source": [
    "## Análisis del modelo"
   ]
  },
  {
   "cell_type": "markdown",
   "metadata": {},
   "source": [
    "Para saber que modelo se adecúa mejor a nuestro propósito debemos tomar en cuenta el rendimiento y el tiempo de computación, por eso viendo en retrospectiva y comparando cada uno de los modelos se puede observar que en bosque aleatorio el RECM es el segundo puntaje más alto pero el tiempo de entrenamiento es largo, en la regresión lineal el tiempo de entrenamiento es el más bajo pero tiene el RECM más alto por lo cual es el modelo más impreciso, luego el modelo de CatBoost es el más preciso pero es muy lento el entrenamiento mientras que con LightGBM el RECM es ligeramente superior a CatBoost pero el tiempo de entrenamiento es bastante mejor por eso considero que LightGBM es el mejor modelo para nuestro propósito ya que considero que el tiempo de entrenamiento más rápido es más importante que la muy ligera variasíon en el RECM.\n",
    "\n",
    "\n",
    "A continuación haré el entrenamiento con los datos de validación con el modelo LigthGMB:"
   ]
  },
  {
   "cell_type": "code",
   "execution_count": 32,
   "metadata": {},
   "outputs": [
    {
     "name": "stderr",
     "output_type": "stream",
     "text": [
      "/opt/conda/envs/python3/lib/python3.9/site-packages/lightgbm/basic.py:2065: UserWarning:\n",
      "\n",
      "Using categorical_feature in Dataset.\n",
      "\n",
      "/opt/conda/envs/python3/lib/python3.9/site-packages/lightgbm/basic.py:2068: UserWarning:\n",
      "\n",
      "categorical_feature in Dataset is overridden.\n",
      "New categorical_feature is ['fuel_type', 'gearbox', 'not_repaired', 'vehicle_type']\n",
      "\n",
      "/opt/conda/envs/python3/lib/python3.9/site-packages/lightgbm/basic.py:1780: UserWarning:\n",
      "\n",
      "Overriding the parameters from Reference Dataset.\n",
      "\n",
      "/opt/conda/envs/python3/lib/python3.9/site-packages/lightgbm/basic.py:1513: UserWarning:\n",
      "\n",
      "categorical_column in param dict is overridden.\n",
      "\n"
     ]
    },
    {
     "name": "stdout",
     "output_type": "stream",
     "text": [
      "[1]\tvalid_0's rmse: 4241.63\tvalid_0's l2: 1.79914e+07\n",
      "[2]\tvalid_0's rmse: 3957.93\tvalid_0's l2: 1.56652e+07\n",
      "[3]\tvalid_0's rmse: 3710.92\tvalid_0's l2: 1.37709e+07\n",
      "[4]\tvalid_0's rmse: 3489.42\tvalid_0's l2: 1.2176e+07\n",
      "[5]\tvalid_0's rmse: 3298.87\tvalid_0's l2: 1.08825e+07\n",
      "[6]\tvalid_0's rmse: 3135.63\tvalid_0's l2: 9.83218e+06\n",
      "[7]\tvalid_0's rmse: 2990.74\tvalid_0's l2: 8.9445e+06\n",
      "[8]\tvalid_0's rmse: 2865.51\tvalid_0's l2: 8.21115e+06\n",
      "[9]\tvalid_0's rmse: 2757.1\tvalid_0's l2: 7.60161e+06\n",
      "[10]\tvalid_0's rmse: 2664.85\tvalid_0's l2: 7.1014e+06\n",
      "[11]\tvalid_0's rmse: 2581.47\tvalid_0's l2: 6.66397e+06\n",
      "[12]\tvalid_0's rmse: 2508.86\tvalid_0's l2: 6.2944e+06\n",
      "[13]\tvalid_0's rmse: 2447.89\tvalid_0's l2: 5.99219e+06\n",
      "[14]\tvalid_0's rmse: 2394.33\tvalid_0's l2: 5.73282e+06\n",
      "[15]\tvalid_0's rmse: 2348.26\tvalid_0's l2: 5.51431e+06\n",
      "[16]\tvalid_0's rmse: 2308.58\tvalid_0's l2: 5.32955e+06\n",
      "[17]\tvalid_0's rmse: 2273.39\tvalid_0's l2: 5.16831e+06\n",
      "[18]\tvalid_0's rmse: 2243.22\tvalid_0's l2: 5.03206e+06\n",
      "[19]\tvalid_0's rmse: 2217.48\tvalid_0's l2: 4.91721e+06\n",
      "[20]\tvalid_0's rmse: 2194.01\tvalid_0's l2: 4.81368e+06\n",
      "[21]\tvalid_0's rmse: 2173.85\tvalid_0's l2: 4.72561e+06\n",
      "[22]\tvalid_0's rmse: 2156.78\tvalid_0's l2: 4.65168e+06\n",
      "[23]\tvalid_0's rmse: 2139.97\tvalid_0's l2: 4.57948e+06\n",
      "[24]\tvalid_0's rmse: 2125.84\tvalid_0's l2: 4.5192e+06\n",
      "[25]\tvalid_0's rmse: 2111.84\tvalid_0's l2: 4.45989e+06\n",
      "[26]\tvalid_0's rmse: 2100.74\tvalid_0's l2: 4.41312e+06\n",
      "[27]\tvalid_0's rmse: 2089.4\tvalid_0's l2: 4.36558e+06\n",
      "[28]\tvalid_0's rmse: 2079.26\tvalid_0's l2: 4.32334e+06\n",
      "[29]\tvalid_0's rmse: 2070.68\tvalid_0's l2: 4.28772e+06\n",
      "[30]\tvalid_0's rmse: 2063.01\tvalid_0's l2: 4.25603e+06\n",
      "[31]\tvalid_0's rmse: 2055.25\tvalid_0's l2: 4.22404e+06\n",
      "[32]\tvalid_0's rmse: 2049.26\tvalid_0's l2: 4.19948e+06\n",
      "[33]\tvalid_0's rmse: 2043.5\tvalid_0's l2: 4.1759e+06\n",
      "[34]\tvalid_0's rmse: 2037.45\tvalid_0's l2: 4.15122e+06\n",
      "[35]\tvalid_0's rmse: 2032.45\tvalid_0's l2: 4.13087e+06\n",
      "[36]\tvalid_0's rmse: 2026.9\tvalid_0's l2: 4.10833e+06\n",
      "[37]\tvalid_0's rmse: 2023.06\tvalid_0's l2: 4.09278e+06\n",
      "[38]\tvalid_0's rmse: 2019.91\tvalid_0's l2: 4.08003e+06\n",
      "[39]\tvalid_0's rmse: 2015.74\tvalid_0's l2: 4.0632e+06\n",
      "[40]\tvalid_0's rmse: 2012.38\tvalid_0's l2: 4.04966e+06\n",
      "[41]\tvalid_0's rmse: 2009.04\tvalid_0's l2: 4.03623e+06\n",
      "[42]\tvalid_0's rmse: 2005.53\tvalid_0's l2: 4.02214e+06\n",
      "[43]\tvalid_0's rmse: 2002.44\tvalid_0's l2: 4.00976e+06\n",
      "[44]\tvalid_0's rmse: 2000.2\tvalid_0's l2: 4.0008e+06\n",
      "[45]\tvalid_0's rmse: 1996.75\tvalid_0's l2: 3.98699e+06\n",
      "[46]\tvalid_0's rmse: 1994.98\tvalid_0's l2: 3.97993e+06\n",
      "[47]\tvalid_0's rmse: 1993\tvalid_0's l2: 3.97205e+06\n",
      "[48]\tvalid_0's rmse: 1990.55\tvalid_0's l2: 3.96227e+06\n",
      "[49]\tvalid_0's rmse: 1988.74\tvalid_0's l2: 3.95509e+06\n",
      "[50]\tvalid_0's rmse: 1986.05\tvalid_0's l2: 3.94439e+06\n",
      "[51]\tvalid_0's rmse: 1984.16\tvalid_0's l2: 3.93688e+06\n",
      "[52]\tvalid_0's rmse: 1982.4\tvalid_0's l2: 3.92992e+06\n",
      "[53]\tvalid_0's rmse: 1980.89\tvalid_0's l2: 3.92394e+06\n",
      "[54]\tvalid_0's rmse: 1979.04\tvalid_0's l2: 3.91661e+06\n",
      "[55]\tvalid_0's rmse: 1977.18\tvalid_0's l2: 3.90926e+06\n",
      "[56]\tvalid_0's rmse: 1975.71\tvalid_0's l2: 3.90343e+06\n",
      "[57]\tvalid_0's rmse: 1973.67\tvalid_0's l2: 3.89537e+06\n",
      "[58]\tvalid_0's rmse: 1971.77\tvalid_0's l2: 3.8879e+06\n",
      "[59]\tvalid_0's rmse: 1970.11\tvalid_0's l2: 3.88133e+06\n",
      "[60]\tvalid_0's rmse: 1968.79\tvalid_0's l2: 3.87615e+06\n",
      "[61]\tvalid_0's rmse: 1967.47\tvalid_0's l2: 3.87093e+06\n",
      "[62]\tvalid_0's rmse: 1966.47\tvalid_0's l2: 3.86702e+06\n",
      "[63]\tvalid_0's rmse: 1965.17\tvalid_0's l2: 3.86191e+06\n",
      "[64]\tvalid_0's rmse: 1962.91\tvalid_0's l2: 3.85302e+06\n",
      "[65]\tvalid_0's rmse: 1961.84\tvalid_0's l2: 3.84881e+06\n",
      "[66]\tvalid_0's rmse: 1960.07\tvalid_0's l2: 3.84187e+06\n",
      "[67]\tvalid_0's rmse: 1958.71\tvalid_0's l2: 3.83653e+06\n",
      "[68]\tvalid_0's rmse: 1957.76\tvalid_0's l2: 3.83281e+06\n",
      "[69]\tvalid_0's rmse: 1956.29\tvalid_0's l2: 3.82706e+06\n",
      "[70]\tvalid_0's rmse: 1955.26\tvalid_0's l2: 3.82304e+06\n",
      "[71]\tvalid_0's rmse: 1953.13\tvalid_0's l2: 3.81471e+06\n",
      "[72]\tvalid_0's rmse: 1952.41\tvalid_0's l2: 3.8119e+06\n",
      "[73]\tvalid_0's rmse: 1951.34\tvalid_0's l2: 3.80772e+06\n",
      "[74]\tvalid_0's rmse: 1949.59\tvalid_0's l2: 3.80092e+06\n",
      "[75]\tvalid_0's rmse: 1948.21\tvalid_0's l2: 3.79553e+06\n",
      "[76]\tvalid_0's rmse: 1947.09\tvalid_0's l2: 3.79115e+06\n",
      "[77]\tvalid_0's rmse: 1946.04\tvalid_0's l2: 3.78709e+06\n",
      "[78]\tvalid_0's rmse: 1945.21\tvalid_0's l2: 3.78384e+06\n",
      "[79]\tvalid_0's rmse: 1943.79\tvalid_0's l2: 3.77832e+06\n",
      "[80]\tvalid_0's rmse: 1943.15\tvalid_0's l2: 3.77582e+06\n",
      "[81]\tvalid_0's rmse: 1942.41\tvalid_0's l2: 3.77294e+06\n",
      "[82]\tvalid_0's rmse: 1941.49\tvalid_0's l2: 3.76938e+06\n",
      "[83]\tvalid_0's rmse: 1940.77\tvalid_0's l2: 3.76657e+06\n",
      "[84]\tvalid_0's rmse: 1940.12\tvalid_0's l2: 3.76407e+06\n",
      "[85]\tvalid_0's rmse: 1939.41\tvalid_0's l2: 3.76133e+06\n",
      "[86]\tvalid_0's rmse: 1938.18\tvalid_0's l2: 3.75655e+06\n",
      "[87]\tvalid_0's rmse: 1937.58\tvalid_0's l2: 3.75424e+06\n",
      "[88]\tvalid_0's rmse: 1936.84\tvalid_0's l2: 3.75133e+06\n",
      "[89]\tvalid_0's rmse: 1935.17\tvalid_0's l2: 3.74489e+06\n",
      "[90]\tvalid_0's rmse: 1934.58\tvalid_0's l2: 3.74262e+06\n",
      "[91]\tvalid_0's rmse: 1933.75\tvalid_0's l2: 3.7394e+06\n",
      "[92]\tvalid_0's rmse: 1932.52\tvalid_0's l2: 3.73465e+06\n",
      "[93]\tvalid_0's rmse: 1931.83\tvalid_0's l2: 3.73197e+06\n",
      "[94]\tvalid_0's rmse: 1930.72\tvalid_0's l2: 3.7277e+06\n",
      "[95]\tvalid_0's rmse: 1930.17\tvalid_0's l2: 3.72555e+06\n",
      "[96]\tvalid_0's rmse: 1929.33\tvalid_0's l2: 3.72233e+06\n",
      "[97]\tvalid_0's rmse: 1928.38\tvalid_0's l2: 3.71864e+06\n",
      "[98]\tvalid_0's rmse: 1927.69\tvalid_0's l2: 3.71599e+06\n",
      "[99]\tvalid_0's rmse: 1926.86\tvalid_0's l2: 3.71278e+06\n",
      "[100]\tvalid_0's rmse: 1926.34\tvalid_0's l2: 3.71079e+06\n",
      "Tiempo de entrenamiento: 4.20 segundos\n",
      "Tiempo de predicción: 0.62 segundos\n",
      "RECM: 1926.34\n"
     ]
    }
   ],
   "source": [
    "lgbm = lgb.LGBMRegressor(random_state=rs)\n",
    "\n",
    "start_time = time.time()\n",
    "lgbm.fit(features_rest, target_rest, eval_metric = 'RMSE', \n",
    "         categorical_feature=['vehicle_type', 'fuel_type', 'not_repaired', 'gearbox'], \n",
    "         eval_set=(features_test, target_test))\n",
    "train_time = time.time() - start_time\n",
    "\n",
    "print(f'Tiempo de entrenamiento: {train_time:.2f} segundos')\n",
    "\n",
    "start_time = time.time()\n",
    "lgbm_pred = lgbm.predict(features_test)\n",
    "pred_time = time.time() - start_time\n",
    "\n",
    "print(f'Tiempo de predicción: {pred_time:.2f} segundos')\n",
    "\n",
    "rmse = mean_squared_error(target_test, lgbm_pred, squared=False)\n",
    "print(f'RECM: {rmse:.2f}')"
   ]
  },
  {
   "cell_type": "markdown",
   "metadata": {},
   "source": [
    "Como se puede apreciar estos resultados indican que el modelo LightGBM logró mejorar tanto los tiempos de entrenamiento y predicción como la precisión con los datos de validación ya que el tiempo de entrenamiento y el tiempo de predicción disminuyeron considerablemente, además de que el RECM se redujo, de esta forma y como conclusión considero que el modelo LightGBM resultó ser la mejor opción en comparación con los otros modelos evaluados."
   ]
  },
  {
   "cell_type": "markdown",
   "metadata": {},
   "source": [
    "# Lista de control"
   ]
  },
  {
   "cell_type": "markdown",
   "metadata": {},
   "source": [
    "Escribe 'x' para verificar. Luego presiona Shift+Enter"
   ]
  },
  {
   "cell_type": "markdown",
   "metadata": {},
   "source": [
    "- [x]  Jupyter Notebook está abierto\n",
    "- [ ]  El código no tiene errores- [ ]  Las celdas con el código han sido colocadas en orden de ejecución- [ ]  Los datos han sido descargados y preparados- [ ]  Los modelos han sido entrenados\n",
    "- [ ]  Se realizó el análisis de velocidad y calidad de los modelos"
   ]
  },
  {
   "cell_type": "code",
   "execution_count": null,
   "metadata": {},
   "outputs": [],
   "source": []
  }
 ],
 "metadata": {
  "ExecuteTimeLog": [
   {
    "duration": 8795,
    "start_time": "2024-07-24T20:14:39.787Z"
   },
   {
    "duration": 1174,
    "start_time": "2024-07-24T20:14:48.590Z"
   },
   {
    "duration": 15,
    "start_time": "2024-07-24T20:14:49.768Z"
   },
   {
    "duration": 0,
    "start_time": "2024-07-24T20:14:49.791Z"
   },
   {
    "duration": 0,
    "start_time": "2024-07-24T20:14:49.795Z"
   },
   {
    "duration": 0,
    "start_time": "2024-07-24T20:14:49.798Z"
   },
   {
    "duration": 0,
    "start_time": "2024-07-24T20:14:49.800Z"
   },
   {
    "duration": 0,
    "start_time": "2024-07-24T20:14:49.809Z"
   },
   {
    "duration": 0,
    "start_time": "2024-07-24T20:14:49.811Z"
   },
   {
    "duration": 0,
    "start_time": "2024-07-24T20:14:49.817Z"
   },
   {
    "duration": 0,
    "start_time": "2024-07-24T20:14:49.818Z"
   },
   {
    "duration": 0,
    "start_time": "2024-07-24T20:14:49.828Z"
   },
   {
    "duration": 0,
    "start_time": "2024-07-24T20:14:49.829Z"
   },
   {
    "duration": 1,
    "start_time": "2024-07-24T20:14:49.830Z"
   },
   {
    "duration": 0,
    "start_time": "2024-07-24T20:14:49.832Z"
   },
   {
    "duration": 0,
    "start_time": "2024-07-24T20:14:49.838Z"
   },
   {
    "duration": 0,
    "start_time": "2024-07-24T20:14:49.839Z"
   },
   {
    "duration": 0,
    "start_time": "2024-07-24T20:14:49.849Z"
   },
   {
    "duration": 0,
    "start_time": "2024-07-24T20:14:49.850Z"
   },
   {
    "duration": 0,
    "start_time": "2024-07-24T20:14:49.851Z"
   },
   {
    "duration": 0,
    "start_time": "2024-07-24T20:14:49.861Z"
   },
   {
    "duration": 0,
    "start_time": "2024-07-24T20:14:49.864Z"
   },
   {
    "duration": 0,
    "start_time": "2024-07-24T20:14:49.868Z"
   },
   {
    "duration": 570,
    "start_time": "2024-07-24T20:14:50.078Z"
   },
   {
    "duration": 0,
    "start_time": "2024-07-24T20:14:50.658Z"
   },
   {
    "duration": 0,
    "start_time": "2024-07-24T20:14:50.659Z"
   },
   {
    "duration": 17,
    "start_time": "2024-07-24T20:14:51.038Z"
   },
   {
    "duration": 5,
    "start_time": "2024-07-24T20:14:51.293Z"
   },
   {
    "duration": 8,
    "start_time": "2024-07-24T20:14:51.756Z"
   },
   {
    "duration": 252,
    "start_time": "2024-07-24T20:14:52.196Z"
   },
   {
    "duration": 3744,
    "start_time": "2024-07-24T20:14:52.654Z"
   },
   {
    "duration": 204,
    "start_time": "2024-07-24T20:14:56.408Z"
   },
   {
    "duration": 161,
    "start_time": "2024-07-24T20:14:56.623Z"
   },
   {
    "duration": 315,
    "start_time": "2024-07-24T20:14:56.796Z"
   },
   {
    "duration": 304,
    "start_time": "2024-07-24T20:14:57.122Z"
   },
   {
    "duration": 96,
    "start_time": "2024-07-24T20:14:57.436Z"
   },
   {
    "duration": 34,
    "start_time": "2024-07-24T20:14:57.542Z"
   },
   {
    "duration": 58312,
    "start_time": "2024-07-24T20:14:57.590Z"
   },
   {
    "duration": 4339,
    "start_time": "2024-07-24T20:16:01.885Z"
   },
   {
    "duration": 889,
    "start_time": "2024-07-24T20:16:06.245Z"
   },
   {
    "duration": 44,
    "start_time": "2024-07-24T20:16:09.246Z"
   },
   {
    "duration": 246,
    "start_time": "2024-07-24T20:16:10.383Z"
   },
   {
    "duration": 181,
    "start_time": "2024-07-24T20:16:11.354Z"
   },
   {
    "duration": 57,
    "start_time": "2024-07-24T20:16:13.165Z"
   },
   {
    "duration": 8201,
    "start_time": "2024-07-24T20:16:13.943Z"
   },
   {
    "duration": 10,
    "start_time": "2024-07-24T20:16:22.156Z"
   },
   {
    "duration": 64,
    "start_time": "2024-07-24T20:16:22.176Z"
   },
   {
    "duration": 17,
    "start_time": "2024-07-24T20:16:22.251Z"
   },
   {
    "duration": 167,
    "start_time": "2024-07-24T20:16:22.579Z"
   },
   {
    "duration": 338,
    "start_time": "2024-07-24T20:16:25.411Z"
   },
   {
    "duration": 32,
    "start_time": "2024-07-24T20:16:26.829Z"
   },
   {
    "duration": 88,
    "start_time": "2024-07-24T20:16:29.573Z"
   },
   {
    "duration": 145,
    "start_time": "2024-07-24T20:16:31.166Z"
   },
   {
    "duration": 39,
    "start_time": "2024-07-24T20:16:32.875Z"
   },
   {
    "duration": 27,
    "start_time": "2024-07-24T20:16:33.730Z"
   },
   {
    "duration": 469,
    "start_time": "2024-07-24T20:16:35.168Z"
   },
   {
    "duration": 75,
    "start_time": "2024-07-24T20:16:36.266Z"
   },
   {
    "duration": 57,
    "start_time": "2024-07-24T20:16:36.885Z"
   },
   {
    "duration": 318,
    "start_time": "2024-07-24T20:16:38.110Z"
   },
   {
    "duration": 25,
    "start_time": "2024-07-24T20:16:39.046Z"
   },
   {
    "duration": 6,
    "start_time": "2024-07-24T20:16:39.491Z"
   },
   {
    "duration": 109,
    "start_time": "2024-07-24T20:16:40.951Z"
   },
   {
    "duration": 262,
    "start_time": "2024-07-24T20:16:43.474Z"
   },
   {
    "duration": 14,
    "start_time": "2024-07-24T20:16:45.077Z"
   },
   {
    "duration": 5,
    "start_time": "2024-07-24T20:16:46.363Z"
   },
   {
    "duration": 11,
    "start_time": "2024-07-24T20:16:47.161Z"
   },
   {
    "duration": 15,
    "start_time": "2024-07-24T20:16:47.942Z"
   },
   {
    "duration": 209,
    "start_time": "2024-07-24T20:16:50.165Z"
   },
   {
    "duration": 3135,
    "start_time": "2024-07-24T20:16:52.143Z"
   },
   {
    "duration": 142,
    "start_time": "2024-07-24T20:16:55.289Z"
   },
   {
    "duration": 135,
    "start_time": "2024-07-24T20:16:55.441Z"
   },
   {
    "duration": 294,
    "start_time": "2024-07-24T20:16:56.365Z"
   },
   {
    "duration": 265,
    "start_time": "2024-07-24T20:16:58.644Z"
   },
   {
    "duration": 79,
    "start_time": "2024-07-24T20:16:59.841Z"
   },
   {
    "duration": 46,
    "start_time": "2024-07-24T20:17:00.577Z"
   },
   {
    "duration": 43945,
    "start_time": "2024-07-24T20:17:02.224Z"
   },
   {
    "duration": 11232,
    "start_time": "2024-07-24T20:17:46.176Z"
   },
   {
    "duration": 94,
    "start_time": "2024-07-24T20:17:57.410Z"
   },
   {
    "duration": 88,
    "start_time": "2024-07-24T20:17:57.507Z"
   },
   {
    "duration": 98,
    "start_time": "2024-07-24T20:17:57.602Z"
   },
   {
    "duration": 322,
    "start_time": "2024-07-24T20:17:57.703Z"
   },
   {
    "duration": 363,
    "start_time": "2024-07-24T20:17:58.028Z"
   },
   {
    "duration": 358,
    "start_time": "2024-07-24T20:17:58.394Z"
   },
   {
    "duration": 9,
    "start_time": "2024-07-24T20:17:58.755Z"
   },
   {
    "duration": 131,
    "start_time": "2024-07-24T20:17:58.768Z"
   },
   {
    "duration": 5,
    "start_time": "2024-07-24T20:17:58.902Z"
   },
   {
    "duration": 737,
    "start_time": "2024-07-24T20:34:38.597Z"
   },
   {
    "duration": 35,
    "start_time": "2024-07-24T20:34:39.960Z"
   },
   {
    "duration": 195,
    "start_time": "2024-07-24T20:34:40.781Z"
   },
   {
    "duration": 992,
    "start_time": "2024-07-24T20:34:41.310Z"
   },
   {
    "duration": 429,
    "start_time": "2024-07-24T20:34:46.885Z"
   },
   {
    "duration": 4555,
    "start_time": "2024-07-24T20:35:08.274Z"
   },
   {
    "duration": 1124,
    "start_time": "2024-07-24T20:35:12.835Z"
   },
   {
    "duration": 37,
    "start_time": "2024-07-24T20:35:13.974Z"
   },
   {
    "duration": 235,
    "start_time": "2024-07-24T20:35:14.022Z"
   },
   {
    "duration": 142,
    "start_time": "2024-07-24T20:35:14.269Z"
   },
   {
    "duration": 60,
    "start_time": "2024-07-24T20:35:14.421Z"
   },
   {
    "duration": 7659,
    "start_time": "2024-07-24T20:35:14.491Z"
   },
   {
    "duration": 13,
    "start_time": "2024-07-24T20:35:22.161Z"
   },
   {
    "duration": 63,
    "start_time": "2024-07-24T20:35:22.185Z"
   },
   {
    "duration": 13,
    "start_time": "2024-07-24T20:35:22.259Z"
   },
   {
    "duration": 142,
    "start_time": "2024-07-24T20:35:23.545Z"
   },
   {
    "duration": 290,
    "start_time": "2024-07-24T20:35:24.873Z"
   },
   {
    "duration": 30,
    "start_time": "2024-07-24T20:35:25.923Z"
   },
   {
    "duration": 110,
    "start_time": "2024-07-24T20:35:26.342Z"
   },
   {
    "duration": 149,
    "start_time": "2024-07-24T20:35:27.312Z"
   },
   {
    "duration": 46,
    "start_time": "2024-07-24T20:35:28.793Z"
   },
   {
    "duration": 16,
    "start_time": "2024-07-24T20:35:29.453Z"
   },
   {
    "duration": 449,
    "start_time": "2024-07-24T20:35:30.826Z"
   },
   {
    "duration": 60,
    "start_time": "2024-07-24T20:35:31.952Z"
   },
   {
    "duration": 34,
    "start_time": "2024-07-24T20:35:32.362Z"
   },
   {
    "duration": 246,
    "start_time": "2024-07-24T20:35:33.357Z"
   },
   {
    "duration": 26,
    "start_time": "2024-07-24T20:35:34.021Z"
   },
   {
    "duration": 6,
    "start_time": "2024-07-24T20:35:34.602Z"
   },
   {
    "duration": 101,
    "start_time": "2024-07-24T20:35:35.734Z"
   },
   {
    "duration": 253,
    "start_time": "2024-07-24T20:35:36.328Z"
   },
   {
    "duration": 12,
    "start_time": "2024-07-24T20:35:37.389Z"
   },
   {
    "duration": 5,
    "start_time": "2024-07-24T20:35:38.354Z"
   },
   {
    "duration": 6,
    "start_time": "2024-07-24T20:35:38.762Z"
   },
   {
    "duration": 26,
    "start_time": "2024-07-24T20:35:39.202Z"
   },
   {
    "duration": 23,
    "start_time": "2024-07-24T20:35:52.669Z"
   },
   {
    "duration": 207,
    "start_time": "2024-07-24T20:35:54.052Z"
   },
   {
    "duration": 3279,
    "start_time": "2024-07-24T20:35:56.322Z"
   },
   {
    "duration": 143,
    "start_time": "2024-07-24T20:35:59.611Z"
   },
   {
    "duration": 154,
    "start_time": "2024-07-24T20:35:59.772Z"
   },
   {
    "duration": 256,
    "start_time": "2024-07-24T20:36:00.661Z"
   },
   {
    "duration": 295,
    "start_time": "2024-07-24T20:36:01.880Z"
   },
   {
    "duration": 133,
    "start_time": "2024-07-24T20:36:02.372Z"
   },
   {
    "duration": 48,
    "start_time": "2024-07-24T20:36:03.081Z"
   },
   {
    "duration": 50540,
    "start_time": "2024-07-24T20:36:04.150Z"
   },
   {
    "duration": 13321,
    "start_time": "2024-07-24T20:36:54.700Z"
   },
   {
    "duration": 133,
    "start_time": "2024-07-24T20:37:08.031Z"
   },
   {
    "duration": 154,
    "start_time": "2024-07-24T20:37:08.174Z"
   },
   {
    "duration": 145,
    "start_time": "2024-07-24T20:37:08.338Z"
   },
   {
    "duration": 332,
    "start_time": "2024-07-24T20:37:08.493Z"
   },
   {
    "duration": 440,
    "start_time": "2024-07-24T20:37:08.836Z"
   },
   {
    "duration": 355,
    "start_time": "2024-07-24T20:37:09.297Z"
   },
   {
    "duration": 6,
    "start_time": "2024-07-24T20:37:09.664Z"
   },
   {
    "duration": 137,
    "start_time": "2024-07-24T20:37:09.686Z"
   },
   {
    "duration": 10,
    "start_time": "2024-07-24T20:37:09.833Z"
   },
   {
    "duration": 7889,
    "start_time": "2024-07-24T21:16:18.188Z"
   },
   {
    "duration": 787,
    "start_time": "2024-07-24T21:16:26.243Z"
   },
   {
    "duration": 25,
    "start_time": "2024-07-24T21:16:27.748Z"
   },
   {
    "duration": 140,
    "start_time": "2024-07-24T21:16:28.483Z"
   },
   {
    "duration": 107,
    "start_time": "2024-07-24T21:16:29.260Z"
   },
   {
    "duration": 43,
    "start_time": "2024-07-24T21:16:30.475Z"
   },
   {
    "duration": 5761,
    "start_time": "2024-07-24T21:16:31.228Z"
   },
   {
    "duration": 9,
    "start_time": "2024-07-24T21:16:36.993Z"
   },
   {
    "duration": 69,
    "start_time": "2024-07-24T21:16:37.005Z"
   },
   {
    "duration": 8,
    "start_time": "2024-07-24T21:16:37.078Z"
   },
   {
    "duration": 111,
    "start_time": "2024-07-24T21:16:40.308Z"
   },
   {
    "duration": 240,
    "start_time": "2024-07-24T21:16:41.514Z"
   },
   {
    "duration": 18,
    "start_time": "2024-07-24T21:16:42.529Z"
   },
   {
    "duration": 62,
    "start_time": "2024-07-24T21:16:42.971Z"
   },
   {
    "duration": 108,
    "start_time": "2024-07-24T21:16:43.790Z"
   },
   {
    "duration": 27,
    "start_time": "2024-07-24T21:16:44.823Z"
   },
   {
    "duration": 13,
    "start_time": "2024-07-24T21:16:45.456Z"
   },
   {
    "duration": 368,
    "start_time": "2024-07-24T21:16:46.442Z"
   },
   {
    "duration": 52,
    "start_time": "2024-07-24T21:16:47.495Z"
   },
   {
    "duration": 21,
    "start_time": "2024-07-24T21:16:48.279Z"
   },
   {
    "duration": 193,
    "start_time": "2024-07-24T21:16:49.279Z"
   },
   {
    "duration": 15,
    "start_time": "2024-07-24T21:16:49.831Z"
   },
   {
    "duration": 5,
    "start_time": "2024-07-24T21:16:50.407Z"
   },
   {
    "duration": 79,
    "start_time": "2024-07-24T21:16:51.382Z"
   },
   {
    "duration": 189,
    "start_time": "2024-07-24T21:16:51.836Z"
   },
   {
    "duration": 7,
    "start_time": "2024-07-24T21:16:52.937Z"
   },
   {
    "duration": 4,
    "start_time": "2024-07-24T21:16:53.878Z"
   },
   {
    "duration": 5,
    "start_time": "2024-07-24T21:16:54.351Z"
   },
   {
    "duration": 20,
    "start_time": "2024-07-24T21:16:54.832Z"
   },
   {
    "duration": 139,
    "start_time": "2024-07-24T21:16:55.743Z"
   },
   {
    "duration": 2463,
    "start_time": "2024-07-24T21:16:56.717Z"
   },
   {
    "duration": 96,
    "start_time": "2024-07-24T21:16:59.183Z"
   },
   {
    "duration": 81,
    "start_time": "2024-07-24T21:16:59.464Z"
   },
   {
    "duration": 165,
    "start_time": "2024-07-24T21:17:00.436Z"
   },
   {
    "duration": 208,
    "start_time": "2024-07-24T21:17:01.754Z"
   },
   {
    "duration": 52,
    "start_time": "2024-07-24T21:17:02.631Z"
   },
   {
    "duration": 17,
    "start_time": "2024-07-24T21:17:03.135Z"
   },
   {
    "duration": 40977,
    "start_time": "2024-07-24T21:17:04.127Z"
   },
   {
    "duration": 10914,
    "start_time": "2024-07-24T21:17:45.108Z"
   },
   {
    "duration": 82,
    "start_time": "2024-07-24T21:17:56.025Z"
   },
   {
    "duration": 78,
    "start_time": "2024-07-24T21:17:56.124Z"
   },
   {
    "duration": 95,
    "start_time": "2024-07-24T21:17:56.206Z"
   },
   {
    "duration": 280,
    "start_time": "2024-07-24T21:17:56.304Z"
   },
   {
    "duration": 302,
    "start_time": "2024-07-24T21:17:56.588Z"
   },
   {
    "duration": 280,
    "start_time": "2024-07-24T21:17:56.894Z"
   },
   {
    "duration": 5,
    "start_time": "2024-07-24T21:17:57.177Z"
   },
   {
    "duration": 136,
    "start_time": "2024-07-24T21:17:57.188Z"
   },
   {
    "duration": 7,
    "start_time": "2024-07-24T21:17:57.326Z"
   },
   {
    "duration": 621,
    "start_time": "2024-07-24T21:18:09.736Z"
   },
   {
    "duration": 26,
    "start_time": "2024-07-24T21:18:11.242Z"
   },
   {
    "duration": 134,
    "start_time": "2024-07-24T21:18:12.384Z"
   },
   {
    "duration": 823,
    "start_time": "2024-07-24T21:18:13.585Z"
   },
   {
    "duration": 313,
    "start_time": "2024-07-24T21:18:19.316Z"
   },
   {
    "duration": 23,
    "start_time": "2024-07-24T21:18:24.287Z"
   },
   {
    "duration": 22,
    "start_time": "2024-07-24T21:18:26.322Z"
   },
   {
    "duration": 114,
    "start_time": "2024-07-24T21:18:28.513Z"
   },
   {
    "duration": 22,
    "start_time": "2024-07-24T21:18:29.071Z"
   },
   {
    "duration": 23,
    "start_time": "2024-07-24T21:18:29.795Z"
   },
   {
    "duration": 7676,
    "start_time": "2024-07-26T18:23:11.961Z"
   },
   {
    "duration": 769,
    "start_time": "2024-07-26T18:25:49.928Z"
   },
   {
    "duration": 26,
    "start_time": "2024-07-26T18:25:51.073Z"
   },
   {
    "duration": 143,
    "start_time": "2024-07-26T18:25:52.408Z"
   },
   {
    "duration": 106,
    "start_time": "2024-07-26T18:25:53.595Z"
   },
   {
    "duration": 46,
    "start_time": "2024-07-26T18:25:55.505Z"
   },
   {
    "duration": 5998,
    "start_time": "2024-07-26T18:25:56.322Z"
   },
   {
    "duration": 12,
    "start_time": "2024-07-26T18:26:02.325Z"
   },
   {
    "duration": 52,
    "start_time": "2024-07-26T18:26:05.775Z"
   },
   {
    "duration": 7,
    "start_time": "2024-07-26T18:26:06.269Z"
   },
   {
    "duration": 118,
    "start_time": "2024-07-26T18:26:11.729Z"
   },
   {
    "duration": 230,
    "start_time": "2024-07-26T18:26:12.796Z"
   },
   {
    "duration": 18,
    "start_time": "2024-07-26T18:26:13.277Z"
   },
   {
    "duration": 60,
    "start_time": "2024-07-26T18:26:13.730Z"
   },
   {
    "duration": 107,
    "start_time": "2024-07-26T18:26:14.242Z"
   },
   {
    "duration": 26,
    "start_time": "2024-07-26T18:26:15.328Z"
   },
   {
    "duration": 12,
    "start_time": "2024-07-26T18:26:15.867Z"
   },
   {
    "duration": 357,
    "start_time": "2024-07-26T18:26:16.807Z"
   },
   {
    "duration": 52,
    "start_time": "2024-07-26T18:26:17.391Z"
   },
   {
    "duration": 20,
    "start_time": "2024-07-26T18:26:17.928Z"
   },
   {
    "duration": 184,
    "start_time": "2024-07-26T18:26:19.058Z"
   },
   {
    "duration": 15,
    "start_time": "2024-07-26T18:26:19.603Z"
   },
   {
    "duration": 4,
    "start_time": "2024-07-26T18:26:20.068Z"
   },
   {
    "duration": 81,
    "start_time": "2024-07-26T18:26:21.031Z"
   },
   {
    "duration": 184,
    "start_time": "2024-07-26T18:26:21.492Z"
   },
   {
    "duration": 5,
    "start_time": "2024-07-26T18:26:22.640Z"
   },
   {
    "duration": 4,
    "start_time": "2024-07-26T18:26:23.921Z"
   },
   {
    "duration": 4,
    "start_time": "2024-07-26T18:26:24.324Z"
   },
   {
    "duration": 19,
    "start_time": "2024-07-26T18:26:24.768Z"
   },
   {
    "duration": 121,
    "start_time": "2024-07-26T18:26:25.768Z"
   },
   {
    "duration": 2368,
    "start_time": "2024-07-26T18:26:26.888Z"
   },
   {
    "duration": 93,
    "start_time": "2024-07-26T18:26:29.259Z"
   },
   {
    "duration": 81,
    "start_time": "2024-07-26T18:26:54.473Z"
   },
   {
    "duration": 156,
    "start_time": "2024-07-26T18:26:55.281Z"
   },
   {
    "duration": 221,
    "start_time": "2024-07-26T18:26:56.329Z"
   },
   {
    "duration": 53,
    "start_time": "2024-07-26T18:26:56.853Z"
   },
   {
    "duration": 17,
    "start_time": "2024-07-26T18:26:57.400Z"
   },
   {
    "duration": 41012,
    "start_time": "2024-07-26T18:26:58.396Z"
   },
   {
    "duration": 10583,
    "start_time": "2024-07-26T18:27:39.411Z"
   },
   {
    "duration": 88,
    "start_time": "2024-07-26T18:27:49.997Z"
   },
   {
    "duration": 93,
    "start_time": "2024-07-26T18:27:50.090Z"
   },
   {
    "duration": 90,
    "start_time": "2024-07-26T18:27:50.185Z"
   },
   {
    "duration": 246,
    "start_time": "2024-07-26T18:27:50.278Z"
   },
   {
    "duration": 282,
    "start_time": "2024-07-26T18:27:50.527Z"
   },
   {
    "duration": 235,
    "start_time": "2024-07-26T18:27:50.812Z"
   },
   {
    "duration": 4,
    "start_time": "2024-07-26T18:27:51.050Z"
   },
   {
    "duration": 100,
    "start_time": "2024-07-26T18:28:33.395Z"
   },
   {
    "duration": 5,
    "start_time": "2024-07-26T18:28:35.269Z"
   },
   {
    "duration": 572,
    "start_time": "2024-07-26T18:29:20.585Z"
   },
   {
    "duration": 25,
    "start_time": "2024-07-26T18:29:21.758Z"
   },
   {
    "duration": 128,
    "start_time": "2024-07-26T18:29:27.050Z"
   },
   {
    "duration": 834,
    "start_time": "2024-07-26T18:29:28.321Z"
   },
   {
    "duration": 3863,
    "start_time": "2024-07-26T18:40:00.587Z"
   },
   {
    "duration": 795,
    "start_time": "2024-07-26T18:40:06.318Z"
   },
   {
    "duration": 32,
    "start_time": "2024-07-26T18:40:07.116Z"
   },
   {
    "duration": 149,
    "start_time": "2024-07-26T18:40:08.249Z"
   },
   {
    "duration": 113,
    "start_time": "2024-07-26T18:40:09.125Z"
   },
   {
    "duration": 41,
    "start_time": "2024-07-26T18:40:10.407Z"
   },
   {
    "duration": 6022,
    "start_time": "2024-07-26T18:40:11.156Z"
   },
   {
    "duration": 8,
    "start_time": "2024-07-26T18:40:17.182Z"
   },
   {
    "duration": 72,
    "start_time": "2024-07-26T18:40:17.193Z"
   },
   {
    "duration": 7,
    "start_time": "2024-07-26T18:42:15.504Z"
   },
   {
    "duration": 110,
    "start_time": "2024-07-26T18:42:16.933Z"
   },
   {
    "duration": 232,
    "start_time": "2024-07-26T18:42:18.236Z"
   },
   {
    "duration": 18,
    "start_time": "2024-07-26T18:42:18.783Z"
   },
   {
    "duration": 63,
    "start_time": "2024-07-26T18:42:19.421Z"
   },
   {
    "duration": 107,
    "start_time": "2024-07-26T18:42:19.974Z"
   },
   {
    "duration": 28,
    "start_time": "2024-07-26T18:42:21.140Z"
   },
   {
    "duration": 12,
    "start_time": "2024-07-26T18:42:21.552Z"
   },
   {
    "duration": 335,
    "start_time": "2024-07-26T18:42:22.380Z"
   },
   {
    "duration": 50,
    "start_time": "2024-07-26T18:42:22.758Z"
   },
   {
    "duration": 20,
    "start_time": "2024-07-26T18:42:23.209Z"
   },
   {
    "duration": 180,
    "start_time": "2024-07-26T18:42:24.296Z"
   },
   {
    "duration": 15,
    "start_time": "2024-07-26T18:42:24.912Z"
   },
   {
    "duration": 5,
    "start_time": "2024-07-26T18:42:25.486Z"
   },
   {
    "duration": 83,
    "start_time": "2024-07-26T18:42:26.401Z"
   },
   {
    "duration": 188,
    "start_time": "2024-07-26T18:42:26.777Z"
   },
   {
    "duration": 5,
    "start_time": "2024-07-26T18:42:27.518Z"
   },
   {
    "duration": 3,
    "start_time": "2024-07-26T18:42:28.090Z"
   },
   {
    "duration": 4,
    "start_time": "2024-07-26T18:42:28.301Z"
   },
   {
    "duration": 18,
    "start_time": "2024-07-26T18:42:28.534Z"
   },
   {
    "duration": 124,
    "start_time": "2024-07-26T18:42:29.340Z"
   },
   {
    "duration": 2403,
    "start_time": "2024-07-26T18:42:30.333Z"
   },
   {
    "duration": 99,
    "start_time": "2024-07-26T18:42:32.740Z"
   },
   {
    "duration": 93,
    "start_time": "2024-07-26T18:42:32.842Z"
   },
   {
    "duration": 159,
    "start_time": "2024-07-26T18:42:34.377Z"
   },
   {
    "duration": 204,
    "start_time": "2024-07-26T18:42:35.321Z"
   },
   {
    "duration": 50,
    "start_time": "2024-07-26T18:42:35.797Z"
   },
   {
    "duration": 18,
    "start_time": "2024-07-26T18:42:36.284Z"
   },
   {
    "duration": 39990,
    "start_time": "2024-07-26T18:42:37.267Z"
   },
   {
    "duration": 10525,
    "start_time": "2024-07-26T18:43:17.261Z"
   },
   {
    "duration": 92,
    "start_time": "2024-07-26T18:43:27.789Z"
   },
   {
    "duration": 76,
    "start_time": "2024-07-26T18:43:30.139Z"
   },
   {
    "duration": 80,
    "start_time": "2024-07-26T18:43:31.113Z"
   },
   {
    "duration": 242,
    "start_time": "2024-07-26T18:43:32.428Z"
   },
   {
    "duration": 278,
    "start_time": "2024-07-26T18:43:33.314Z"
   },
   {
    "duration": 228,
    "start_time": "2024-07-26T18:43:33.778Z"
   },
   {
    "duration": 4,
    "start_time": "2024-07-26T18:43:34.228Z"
   },
   {
    "duration": 98,
    "start_time": "2024-07-26T18:43:34.742Z"
   },
   {
    "duration": 12,
    "start_time": "2024-07-26T18:43:35.504Z"
   },
   {
    "duration": 563,
    "start_time": "2024-07-26T18:43:38.071Z"
   },
   {
    "duration": 26,
    "start_time": "2024-07-26T18:43:40.513Z"
   },
   {
    "duration": 127,
    "start_time": "2024-07-26T18:43:41.308Z"
   },
   {
    "duration": 829,
    "start_time": "2024-07-26T18:43:43.043Z"
   },
   {
    "duration": 1689,
    "start_time": "2024-07-26T18:57:33.170Z"
   },
   {
    "duration": 4,
    "start_time": "2024-07-26T18:57:34.863Z"
   },
   {
    "duration": 788,
    "start_time": "2024-07-26T18:57:35.561Z"
   },
   {
    "duration": 149,
    "start_time": "2024-07-26T18:57:37.504Z"
   },
   {
    "duration": 42,
    "start_time": "2024-07-26T18:58:10.125Z"
   },
   {
    "duration": 108,
    "start_time": "2024-07-26T18:58:32.079Z"
   },
   {
    "duration": 857,
    "start_time": "2024-07-26T18:59:42.045Z"
   },
   {
    "duration": 950,
    "start_time": "2024-07-26T19:01:49.607Z"
   },
   {
    "duration": 517,
    "start_time": "2024-07-26T19:04:10.794Z"
   },
   {
    "duration": 530,
    "start_time": "2024-07-26T19:06:30.608Z"
   },
   {
    "duration": 2439,
    "start_time": "2024-07-26T19:07:23.848Z"
   },
   {
    "duration": 29,
    "start_time": "2024-07-26T19:16:58.011Z"
   },
   {
    "duration": 231,
    "start_time": "2024-07-26T19:16:59.027Z"
   },
   {
    "duration": 46,
    "start_time": "2024-07-26T19:18:51.608Z"
   },
   {
    "duration": 47,
    "start_time": "2024-07-26T19:20:24.526Z"
   },
   {
    "duration": 88,
    "start_time": "2024-07-26T19:21:14.424Z"
   },
   {
    "duration": 82,
    "start_time": "2024-07-26T19:21:53.588Z"
   },
   {
    "duration": 86,
    "start_time": "2024-07-26T19:22:34.662Z"
   },
   {
    "duration": 80,
    "start_time": "2024-07-26T19:23:07.536Z"
   },
   {
    "duration": 68,
    "start_time": "2024-07-26T19:25:12.146Z"
   },
   {
    "duration": 55,
    "start_time": "2024-07-26T19:25:13.705Z"
   },
   {
    "duration": 64,
    "start_time": "2024-07-26T19:25:15.058Z"
   },
   {
    "duration": 8,
    "start_time": "2024-07-26T19:25:19.934Z"
   },
   {
    "duration": 809,
    "start_time": "2024-07-26T19:28:47.719Z"
   },
   {
    "duration": 93,
    "start_time": "2024-07-26T19:29:30.828Z"
   },
   {
    "duration": 143,
    "start_time": "2024-07-26T19:30:22.926Z"
   },
   {
    "duration": 160,
    "start_time": "2024-07-26T19:30:55.692Z"
   },
   {
    "duration": 221,
    "start_time": "2024-07-26T19:33:37.326Z"
   },
   {
    "duration": 406607,
    "start_time": "2024-07-26T19:34:50.817Z"
   },
   {
    "duration": 33088,
    "start_time": "2024-07-26T20:17:26.235Z"
   },
   {
    "duration": 19537,
    "start_time": "2024-07-26T20:21:24.204Z"
   },
   {
    "duration": 5201,
    "start_time": "2024-07-26T20:22:43.264Z"
   },
   {
    "duration": 76,
    "start_time": "2024-07-26T23:21:38.106Z"
   },
   {
    "duration": 6,
    "start_time": "2024-07-26T23:27:01.639Z"
   },
   {
    "duration": 4,
    "start_time": "2024-07-26T23:27:05.056Z"
   },
   {
    "duration": 712,
    "start_time": "2024-07-26T23:27:06.022Z"
   },
   {
    "duration": 150,
    "start_time": "2024-07-26T23:27:06.738Z"
   },
   {
    "duration": 29,
    "start_time": "2024-07-26T23:27:09.842Z"
   },
   {
    "duration": 106,
    "start_time": "2024-07-26T23:27:12.162Z"
   },
   {
    "duration": 1687,
    "start_time": "2024-07-26T23:27:24.162Z"
   },
   {
    "duration": 4,
    "start_time": "2024-07-26T23:27:25.853Z"
   },
   {
    "duration": 716,
    "start_time": "2024-07-26T23:27:26.901Z"
   },
   {
    "duration": 141,
    "start_time": "2024-07-26T23:27:28.641Z"
   },
   {
    "duration": 41,
    "start_time": "2024-07-26T23:27:32.410Z"
   },
   {
    "duration": 118,
    "start_time": "2024-07-26T23:27:35.910Z"
   },
   {
    "duration": 861,
    "start_time": "2024-07-26T23:27:52.133Z"
   },
   {
    "duration": 32,
    "start_time": "2024-07-27T00:05:56.081Z"
   },
   {
    "duration": 573,
    "start_time": "2024-07-27T00:06:48.773Z"
   },
   {
    "duration": 439,
    "start_time": "2024-07-27T00:07:39.425Z"
   },
   {
    "duration": 2401,
    "start_time": "2024-07-27T00:09:07.950Z"
   },
   {
    "duration": 2032,
    "start_time": "2024-07-27T00:09:58.318Z"
   },
   {
    "duration": 1941,
    "start_time": "2024-07-27T00:10:16.468Z"
   },
   {
    "duration": 1744,
    "start_time": "2024-07-27T00:11:36.180Z"
   },
   {
    "duration": 4,
    "start_time": "2024-07-27T00:11:38.574Z"
   },
   {
    "duration": 717,
    "start_time": "2024-07-27T00:11:39.767Z"
   },
   {
    "duration": 148,
    "start_time": "2024-07-27T00:11:41.096Z"
   },
   {
    "duration": 40,
    "start_time": "2024-07-27T00:11:43.771Z"
   },
   {
    "duration": 122,
    "start_time": "2024-07-27T00:11:49.505Z"
   },
   {
    "duration": 43,
    "start_time": "2024-07-27T00:11:56.136Z"
   },
   {
    "duration": 907,
    "start_time": "2024-07-27T00:11:59.560Z"
   },
   {
    "duration": 475,
    "start_time": "2024-07-27T00:12:13.964Z"
   },
   {
    "duration": 417,
    "start_time": "2024-07-27T00:12:44.837Z"
   },
   {
    "duration": 461,
    "start_time": "2024-07-27T00:13:05.600Z"
   },
   {
    "duration": 1729,
    "start_time": "2024-07-27T00:16:14.223Z"
   },
   {
    "duration": 3,
    "start_time": "2024-07-27T00:16:20.090Z"
   },
   {
    "duration": 708,
    "start_time": "2024-07-27T00:16:21.376Z"
   },
   {
    "duration": 153,
    "start_time": "2024-07-27T00:19:05.128Z"
   },
   {
    "duration": 45,
    "start_time": "2024-07-27T00:19:08.372Z"
   },
   {
    "duration": 113,
    "start_time": "2024-07-27T00:19:10.200Z"
   },
   {
    "duration": 39,
    "start_time": "2024-07-27T00:19:14.906Z"
   },
   {
    "duration": 919,
    "start_time": "2024-07-27T00:19:17.615Z"
   },
   {
    "duration": 490,
    "start_time": "2024-07-27T00:19:33.544Z"
   },
   {
    "duration": 1712,
    "start_time": "2024-07-27T00:21:26.422Z"
   },
   {
    "duration": 6,
    "start_time": "2024-07-27T00:21:28.137Z"
   },
   {
    "duration": 708,
    "start_time": "2024-07-27T00:21:28.360Z"
   },
   {
    "duration": 151,
    "start_time": "2024-07-27T00:21:29.338Z"
   },
   {
    "duration": 45,
    "start_time": "2024-07-27T00:25:59.198Z"
   },
   {
    "duration": 120,
    "start_time": "2024-07-27T00:26:01.245Z"
   },
   {
    "duration": 856,
    "start_time": "2024-07-27T00:26:08.816Z"
   },
   {
    "duration": 493,
    "start_time": "2024-07-27T00:26:24.324Z"
   },
   {
    "duration": 418,
    "start_time": "2024-07-27T00:26:44.028Z"
   },
   {
    "duration": 1753,
    "start_time": "2024-07-27T00:27:20.272Z"
   },
   {
    "duration": 8,
    "start_time": "2024-07-27T00:27:22.028Z"
   },
   {
    "duration": 752,
    "start_time": "2024-07-27T00:27:23.155Z"
   },
   {
    "duration": 146,
    "start_time": "2024-07-27T00:27:24.173Z"
   },
   {
    "duration": 45,
    "start_time": "2024-07-27T00:27:28.192Z"
   },
   {
    "duration": 112,
    "start_time": "2024-07-27T00:27:30.256Z"
   },
   {
    "duration": 912,
    "start_time": "2024-07-27T00:27:39.090Z"
   },
   {
    "duration": 510,
    "start_time": "2024-07-27T00:27:48.061Z"
   },
   {
    "duration": 430,
    "start_time": "2024-07-27T00:28:46.951Z"
   },
   {
    "duration": 530,
    "start_time": "2024-07-27T00:28:49.288Z"
   },
   {
    "duration": 2530,
    "start_time": "2024-07-27T00:30:38.439Z"
   },
   {
    "duration": 8,
    "start_time": "2024-07-27T01:26:33.826Z"
   },
   {
    "duration": 211,
    "start_time": "2024-07-27T01:29:51.710Z"
   },
   {
    "duration": 5169,
    "start_time": "2024-07-30T16:15:15.272Z"
   },
   {
    "duration": 5,
    "start_time": "2024-07-30T16:15:20.445Z"
   },
   {
    "duration": 749,
    "start_time": "2024-07-30T16:15:20.453Z"
   },
   {
    "duration": 161,
    "start_time": "2024-07-30T16:15:21.205Z"
   },
   {
    "duration": 38,
    "start_time": "2024-07-30T16:15:22.920Z"
   },
   {
    "duration": 121,
    "start_time": "2024-07-30T16:15:24.132Z"
   },
   {
    "duration": 928,
    "start_time": "2024-07-30T16:15:27.118Z"
   },
   {
    "duration": 419,
    "start_time": "2024-07-30T16:15:40.288Z"
   },
   {
    "duration": 529,
    "start_time": "2024-07-30T16:18:21.710Z"
   },
   {
    "duration": 2564,
    "start_time": "2024-07-30T16:19:40.997Z"
   },
   {
    "duration": 23,
    "start_time": "2024-07-30T16:20:38.955Z"
   },
   {
    "duration": 232,
    "start_time": "2024-07-30T16:20:40.021Z"
   },
   {
    "duration": 47,
    "start_time": "2024-07-30T16:20:47.886Z"
   },
   {
    "duration": 49,
    "start_time": "2024-07-30T16:20:51.695Z"
   },
   {
    "duration": 87,
    "start_time": "2024-07-30T16:20:53.600Z"
   },
   {
    "duration": 82,
    "start_time": "2024-07-30T16:20:55.190Z"
   },
   {
    "duration": 86,
    "start_time": "2024-07-30T16:20:57.385Z"
   },
   {
    "duration": 80,
    "start_time": "2024-07-30T16:20:58.879Z"
   },
   {
    "duration": 62,
    "start_time": "2024-07-30T16:21:02.050Z"
   },
   {
    "duration": 53,
    "start_time": "2024-07-30T16:21:03.102Z"
   },
   {
    "duration": 69,
    "start_time": "2024-07-30T16:21:03.747Z"
   },
   {
    "duration": 9,
    "start_time": "2024-07-30T16:21:03.955Z"
   },
   {
    "duration": 785,
    "start_time": "2024-07-30T16:21:05.954Z"
   },
   {
    "duration": 93,
    "start_time": "2024-07-30T16:21:06.941Z"
   },
   {
    "duration": 150,
    "start_time": "2024-07-30T16:21:07.871Z"
   },
   {
    "duration": 158,
    "start_time": "2024-07-30T16:21:09.369Z"
   },
   {
    "duration": 232,
    "start_time": "2024-07-30T16:21:12.010Z"
   },
   {
    "duration": 409322,
    "start_time": "2024-07-30T16:21:14.487Z"
   },
   {
    "duration": 5871,
    "start_time": "2024-07-31T01:19:49.082Z"
   },
   {
    "duration": 5,
    "start_time": "2024-07-31T01:20:00.850Z"
   },
   {
    "duration": 867,
    "start_time": "2024-07-31T01:20:00.982Z"
   },
   {
    "duration": 160,
    "start_time": "2024-07-31T01:20:02.091Z"
   },
   {
    "duration": 44,
    "start_time": "2024-07-31T01:20:03.549Z"
   },
   {
    "duration": 113,
    "start_time": "2024-07-31T01:20:04.595Z"
   },
   {
    "duration": 960,
    "start_time": "2024-07-31T01:20:09.801Z"
   },
   {
    "duration": 433,
    "start_time": "2024-07-31T01:20:26.102Z"
   },
   {
    "duration": 522,
    "start_time": "2024-07-31T01:21:17.524Z"
   },
   {
    "duration": 2495,
    "start_time": "2024-07-31T01:22:33.593Z"
   },
   {
    "duration": 26,
    "start_time": "2024-07-31T01:22:52.499Z"
   },
   {
    "duration": 258,
    "start_time": "2024-07-31T01:22:54.765Z"
   },
   {
    "duration": 47,
    "start_time": "2024-07-31T01:23:04.029Z"
   },
   {
    "duration": 47,
    "start_time": "2024-07-31T01:23:19.132Z"
   },
   {
    "duration": 67,
    "start_time": "2024-07-31T01:23:31.345Z"
   },
   {
    "duration": 91,
    "start_time": "2024-07-31T01:23:48.665Z"
   },
   {
    "duration": 84,
    "start_time": "2024-07-31T01:24:02.927Z"
   },
   {
    "duration": 125,
    "start_time": "2024-07-31T01:24:40.080Z"
   },
   {
    "duration": 109,
    "start_time": "2024-07-31T01:24:54.340Z"
   },
   {
    "duration": 65,
    "start_time": "2024-07-31T01:24:59.133Z"
   },
   {
    "duration": 56,
    "start_time": "2024-07-31T01:25:00.954Z"
   },
   {
    "duration": 65,
    "start_time": "2024-07-31T01:25:02.243Z"
   },
   {
    "duration": 9,
    "start_time": "2024-07-31T01:25:04.862Z"
   },
   {
    "duration": 899,
    "start_time": "2024-07-31T01:25:21.803Z"
   },
   {
    "duration": 96,
    "start_time": "2024-07-31T01:25:30.162Z"
   },
   {
    "duration": 149,
    "start_time": "2024-07-31T01:25:36.118Z"
   },
   {
    "duration": 158,
    "start_time": "2024-07-31T01:25:39.639Z"
   },
   {
    "duration": 329,
    "start_time": "2024-07-31T01:25:47.815Z"
   },
   {
    "duration": 475028,
    "start_time": "2024-07-31T01:25:51.507Z"
   },
   {
    "duration": 32520,
    "start_time": "2024-07-31T01:33:46.538Z"
   },
   {
    "duration": 19106,
    "start_time": "2024-07-31T01:34:19.061Z"
   },
   {
    "duration": 4889,
    "start_time": "2024-07-31T01:34:43.258Z"
   },
   {
    "duration": 403,
    "start_time": "2024-07-31T02:49:46.940Z"
   },
   {
    "duration": 471,
    "start_time": "2024-07-31T02:50:52.637Z"
   },
   {
    "duration": 1702,
    "start_time": "2024-07-31T03:04:06.798Z"
   },
   {
    "duration": 3,
    "start_time": "2024-07-31T03:04:09.971Z"
   },
   {
    "duration": 740,
    "start_time": "2024-07-31T03:04:11.308Z"
   },
   {
    "duration": 150,
    "start_time": "2024-07-31T03:04:12.789Z"
   },
   {
    "duration": 40,
    "start_time": "2024-07-31T03:04:15.838Z"
   },
   {
    "duration": 112,
    "start_time": "2024-07-31T03:04:18.279Z"
   },
   {
    "duration": 862,
    "start_time": "2024-07-31T03:04:28.839Z"
   },
   {
    "duration": 428,
    "start_time": "2024-07-31T03:04:40.618Z"
   },
   {
    "duration": 511,
    "start_time": "2024-07-31T03:04:58.909Z"
   },
   {
    "duration": 2421,
    "start_time": "2024-07-31T03:06:24.780Z"
   },
   {
    "duration": 22,
    "start_time": "2024-07-31T03:06:34.106Z"
   },
   {
    "duration": 233,
    "start_time": "2024-07-31T03:06:35.682Z"
   },
   {
    "duration": 47,
    "start_time": "2024-07-31T03:06:41.455Z"
   },
   {
    "duration": 58,
    "start_time": "2024-07-31T03:06:44.767Z"
   },
   {
    "duration": 86,
    "start_time": "2024-07-31T03:06:48.171Z"
   },
   {
    "duration": 83,
    "start_time": "2024-07-31T03:06:53.085Z"
   },
   {
    "duration": 99,
    "start_time": "2024-07-31T03:06:56.380Z"
   },
   {
    "duration": 79,
    "start_time": "2024-07-31T03:06:59.149Z"
   },
   {
    "duration": 65,
    "start_time": "2024-07-31T03:07:01.798Z"
   },
   {
    "duration": 56,
    "start_time": "2024-07-31T03:07:02.688Z"
   },
   {
    "duration": 62,
    "start_time": "2024-07-31T03:07:03.776Z"
   },
   {
    "duration": 9,
    "start_time": "2024-07-31T03:07:04.455Z"
   },
   {
    "duration": 810,
    "start_time": "2024-07-31T03:07:08.507Z"
   },
   {
    "duration": 96,
    "start_time": "2024-07-31T03:07:11.437Z"
   },
   {
    "duration": 145,
    "start_time": "2024-07-31T03:07:13.229Z"
   },
   {
    "duration": 154,
    "start_time": "2024-07-31T03:07:14.932Z"
   },
   {
    "duration": 223,
    "start_time": "2024-07-31T03:07:20.924Z"
   },
   {
    "duration": 415344,
    "start_time": "2024-07-31T03:07:22.580Z"
   },
   {
    "duration": 33082,
    "start_time": "2024-07-31T03:14:17.927Z"
   },
   {
    "duration": 18959,
    "start_time": "2024-07-31T03:15:46.976Z"
   },
   {
    "duration": 4829,
    "start_time": "2024-07-31T03:16:05.938Z"
   },
   {
    "duration": 5,
    "start_time": "2024-08-02T03:17:33.347Z"
   },
   {
    "duration": 4,
    "start_time": "2024-08-02T03:17:33.838Z"
   },
   {
    "duration": 730,
    "start_time": "2024-08-02T03:17:33.923Z"
   },
   {
    "duration": 158,
    "start_time": "2024-08-02T03:17:34.657Z"
   },
   {
    "duration": 39,
    "start_time": "2024-08-02T03:17:34.818Z"
   },
   {
    "duration": 137,
    "start_time": "2024-08-02T03:17:34.861Z"
   },
   {
    "duration": 535,
    "start_time": "2024-08-02T03:17:35.001Z"
   },
   {
    "duration": 659,
    "start_time": "2024-08-02T03:17:35.542Z"
   },
   {
    "duration": 738,
    "start_time": "2024-08-02T03:17:36.205Z"
   },
   {
    "duration": 2451,
    "start_time": "2024-08-02T03:17:36.948Z"
   },
   {
    "duration": 59,
    "start_time": "2024-08-02T03:17:39.402Z"
   },
   {
    "duration": 328,
    "start_time": "2024-08-02T03:17:39.464Z"
   },
   {
    "duration": 52,
    "start_time": "2024-08-02T03:17:39.795Z"
   },
   {
    "duration": 47,
    "start_time": "2024-08-02T03:17:39.851Z"
   },
   {
    "duration": 132,
    "start_time": "2024-08-02T03:17:39.903Z"
   },
   {
    "duration": 99,
    "start_time": "2024-08-02T03:17:40.038Z"
   },
   {
    "duration": 102,
    "start_time": "2024-08-02T03:17:40.140Z"
   },
   {
    "duration": 98,
    "start_time": "2024-08-02T03:17:40.246Z"
   },
   {
    "duration": 64,
    "start_time": "2024-08-02T03:17:40.348Z"
   },
   {
    "duration": 72,
    "start_time": "2024-08-02T03:17:40.415Z"
   },
   {
    "duration": 76,
    "start_time": "2024-08-02T03:17:40.490Z"
   },
   {
    "duration": 9,
    "start_time": "2024-08-02T03:17:40.569Z"
   },
   {
    "duration": 840,
    "start_time": "2024-08-02T03:17:40.581Z"
   },
   {
    "duration": 108,
    "start_time": "2024-08-02T03:17:41.424Z"
   },
   {
    "duration": 160,
    "start_time": "2024-08-02T03:17:41.538Z"
   },
   {
    "duration": 169,
    "start_time": "2024-08-02T03:17:41.703Z"
   },
   {
    "duration": 10788,
    "start_time": "2024-08-02T17:22:01.052Z"
   },
   {
    "duration": 5,
    "start_time": "2024-08-02T17:22:12.305Z"
   },
   {
    "duration": 1536,
    "start_time": "2024-08-02T17:22:12.318Z"
   },
   {
    "duration": 369,
    "start_time": "2024-08-02T17:22:13.864Z"
   },
   {
    "duration": 42,
    "start_time": "2024-08-02T17:22:14.236Z"
   },
   {
    "duration": 216,
    "start_time": "2024-08-02T17:22:14.335Z"
   },
   {
    "duration": 1587,
    "start_time": "2024-08-02T17:22:14.553Z"
   },
   {
    "duration": 916,
    "start_time": "2024-08-02T17:22:16.144Z"
   },
   {
    "duration": 1106,
    "start_time": "2024-08-02T17:22:17.062Z"
   },
   {
    "duration": 5164,
    "start_time": "2024-08-02T17:22:18.171Z"
   },
   {
    "duration": 25,
    "start_time": "2024-08-02T17:22:23.338Z"
   },
   {
    "duration": 510,
    "start_time": "2024-08-02T17:22:23.366Z"
   },
   {
    "duration": 96,
    "start_time": "2024-08-02T17:22:23.881Z"
   },
   {
    "duration": 103,
    "start_time": "2024-08-02T17:22:24.034Z"
   },
   {
    "duration": 8,
    "start_time": "2024-08-02T17:28:26.060Z"
   },
   {
    "duration": 163,
    "start_time": "2024-12-12T22:13:32.715Z"
   },
   {
    "duration": 2801,
    "start_time": "2024-12-12T22:14:07.638Z"
   },
   {
    "duration": 3,
    "start_time": "2024-12-12T22:14:10.441Z"
   },
   {
    "duration": 467,
    "start_time": "2024-12-12T22:14:10.446Z"
   },
   {
    "duration": 95,
    "start_time": "2024-12-12T22:14:10.915Z"
   },
   {
    "duration": 29,
    "start_time": "2024-12-12T22:14:13.571Z"
   },
   {
    "duration": 63,
    "start_time": "2024-12-12T22:14:15.494Z"
   },
   {
    "duration": 538,
    "start_time": "2024-12-12T22:14:25.333Z"
   }
  ],
  "kernelspec": {
   "display_name": "Python 3 (ipykernel)",
   "language": "python",
   "name": "python3"
  },
  "language_info": {
   "codemirror_mode": {
    "name": "ipython",
    "version": 3
   },
   "file_extension": ".py",
   "mimetype": "text/x-python",
   "name": "python",
   "nbconvert_exporter": "python",
   "pygments_lexer": "ipython3",
   "version": "3.9.19"
  },
  "toc": {
   "base_numbering": 1,
   "nav_menu": {},
   "number_sections": true,
   "sideBar": true,
   "skip_h1_title": true,
   "title_cell": "Table of Contents",
   "title_sidebar": "Contents",
   "toc_cell": false,
   "toc_position": {},
   "toc_section_display": true,
   "toc_window_display": false
  }
 },
 "nbformat": 4,
 "nbformat_minor": 2
}
